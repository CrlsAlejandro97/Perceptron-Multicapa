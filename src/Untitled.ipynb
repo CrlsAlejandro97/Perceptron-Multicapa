{
 "cells": [
  {
   "cell_type": "code",
   "execution_count": 29,
   "id": "3637cffd",
   "metadata": {},
   "outputs": [],
   "source": [
    "import pandas as pd\n",
    "import numpy as np"
   ]
  },
  {
   "cell_type": "code",
   "execution_count": 33,
   "id": "6d8f4901",
   "metadata": {},
   "outputs": [],
   "source": [
    "letra_b = pd.read_csv(\"data/letra_b.csv\", sep=\";\", header=None)"
   ]
  },
  {
   "cell_type": "code",
   "execution_count": 36,
   "id": "b3fa56c5",
   "metadata": {},
   "outputs": [
    {
     "data": {
      "text/plain": [
       "array([[0, 0, 0, ..., 0, 0, 0],\n",
       "       [0, 0, 0, ..., 0, 0, 0],\n",
       "       [0, 0, 0, ..., 0, 0, 0],\n",
       "       ...,\n",
       "       [0, 0, 0, ..., 0, 0, 0],\n",
       "       [0, 0, 0, ..., 0, 0, 0],\n",
       "       [0, 0, 0, ..., 0, 0, 0]], dtype=int64)"
      ]
     },
     "execution_count": 36,
     "metadata": {},
     "output_type": "execute_result"
    }
   ],
   "source": [
    "letra_b = letra_b.to_numpy()\n",
    "letra_b"
   ]
  },
  {
   "cell_type": "code",
   "execution_count": 21,
   "id": "214e8828",
   "metadata": {},
   "outputs": [],
   "source": [
    "#letra_b_2d = np.reshape(letra_b, (10, 10))\n",
    "#letra_b_2d"
   ]
  },
  {
   "cell_type": "code",
   "execution_count": 47,
   "id": "b4e046a9",
   "metadata": {},
   "outputs": [
    {
     "data": {
      "text/plain": [
       "array([[0, 1, 0, 0, 0, 0, 0, 0, 0, 0],\n",
       "       [0, 0, 1, 0, 0, 0, 1, 0, 0, 0],\n",
       "       [0, 0, 0, 0, 0, 0, 0, 0, 1, 0],\n",
       "       [0, 0, 0, 0, 0, 0, 0, 0, 0, 0],\n",
       "       [0, 0, 1, 0, 0, 1, 1, 0, 1, 0],\n",
       "       [0, 0, 1, 0, 0, 0, 1, 1, 0, 0],\n",
       "       [0, 1, 1, 0, 0, 0, 0, 1, 0, 0],\n",
       "       [0, 0, 1, 0, 0, 0, 0, 1, 0, 0],\n",
       "       [0, 0, 1, 0, 1, 0, 1, 0, 0, 0],\n",
       "       [0, 0, 0, 0, 0, 0, 0, 0, 0, 0]], dtype=int64)"
      ]
     },
     "execution_count": 47,
     "metadata": {},
     "output_type": "execute_result"
    }
   ],
   "source": [
    "import random\n",
    "import tkinter as tk\n",
    "letrab_dist = letra_b.copy()\n",
    "primer_fila = letrab_dist[0]\n",
    "distorcion = 0.1\n",
    "for i in range(len(primer_fila)):\n",
    "    if random.randint(0, 9) == 0:\n",
    "        num = primer_fila[i]\n",
    "        posicion_reemplazo = random.randint(0, 99)\n",
    "        num_reemplazo = primer_fila[posicion_reemplazo]\n",
    "        primer_fila[i] = num_reemplazo\n",
    "        primer_fila[posicion_reemplazo] = num\n",
    "\n",
    "primer_fila2d = np.reshape(primer_fila, (10,10))\n",
    "primer_fila2d"
   ]
  }
 ],
 "metadata": {
  "kernelspec": {
   "display_name": "Python 3 (ipykernel)",
   "language": "python",
   "name": "python3"
  },
  "language_info": {
   "codemirror_mode": {
    "name": "ipython",
    "version": 3
   },
   "file_extension": ".py",
   "mimetype": "text/x-python",
   "name": "python",
   "nbconvert_exporter": "python",
   "pygments_lexer": "ipython3",
   "version": "3.8.5"
  }
 },
 "nbformat": 4,
 "nbformat_minor": 5
}
