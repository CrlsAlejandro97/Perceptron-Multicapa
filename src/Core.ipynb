{
 "cells": [
  {
   "cell_type": "code",
   "execution_count": 17,
   "id": "3637cffd",
   "metadata": {},
   "outputs": [],
   "source": [
    "import pandas as pd\n",
    "import numpy as np\n",
    "import random\n",
    "import matplotlib.pyplot as plt\n",
    "from function import sigmoide"
   ]
  },
  {
   "cell_type": "code",
   "execution_count": 5,
   "id": "6d8f4901",
   "metadata": {},
   "outputs": [],
   "source": [
    "\n",
    "#Capa de entrada\n",
    "x=np.zeros(100, dtype=int)\n",
    "#Inicializamos los pesos\n",
    "w = sorted([random.random() for i in range(100)])\n"
   ]
  },
  {
   "cell_type": "code",
   "execution_count": 26,
   "id": "57cdc1fd",
   "metadata": {},
   "outputs": [],
   "source": [
    "#cantidad =input()\n",
    "data = pd.read_csv(\"/Users/aleoc/OneDrive/Escritorio/Perceptron-Multicapa/src/data/originales/100/letras_b.csv\", sep=\";\", header=None)\n"
   ]
  },
  {
   "cell_type": "code",
   "execution_count": 24,
   "id": "5e3abdd2",
   "metadata": {},
   "outputs": [],
   "source": [
    "#Tomamos los valores de entrada que forman la letra\n",
    "letra_b = pd.read_csv(\"/Users/aleoc/OneDrive/Escritorio/Perceptron-Multicapa/src/data/originales/100/letras_b.csv\", sep=\";\", header=None)\n",
    "#letra_b=[random.randint(0,1) for i in range(100)]\n",
    "#Inicializamos los pesos\n",
    "pesos = sorted([random.random() for i in range(100)])\n",
    "resultado=0\n",
    "y=[]\n",
    "#columna-fila\n",
    "for i in range(100):\n",
    "  for j in range(100):\n",
    "    resultado= resultado + letra_b[j]*pesos[j]  \n",
    "  y.append(sigmoide(resultado))\n",
    "  resultado=0\n"
   ]
  }
 ],
 "metadata": {
  "kernelspec": {
   "display_name": "Python 3.10.7 64-bit (microsoft store)",
   "language": "python",
   "name": "python3"
  },
  "language_info": {
   "codemirror_mode": {
    "name": "ipython",
    "version": 3
   },
   "file_extension": ".py",
   "mimetype": "text/x-python",
   "name": "python",
   "nbconvert_exporter": "python",
   "pygments_lexer": "ipython3",
   "version": "3.10.7"
  },
  "vscode": {
   "interpreter": {
    "hash": "ba23b61cdc6890bf9b74f0059fdc1fca5173150fee92ba939d36054f0efba838"
   }
  }
 },
 "nbformat": 4,
 "nbformat_minor": 5
}
