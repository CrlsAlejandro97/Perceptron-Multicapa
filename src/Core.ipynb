{
 "cells": [
  {
   "cell_type": "code",
   "execution_count": 2,
   "id": "3637cffd",
   "metadata": {},
   "outputs": [],
   "source": [
    "import pandas as pd\n",
    "import numpy as np\n",
    "import random\n",
    "import matplotlib.pyplot as plt\n",
    "from function import sigmoide\n",
    "import os "
   ]
  },
  {
   "cell_type": "code",
   "execution_count": 10,
   "id": "6d8f4901",
   "metadata": {},
   "outputs": [],
   "source": [
    "\n",
    "#Capa de entrada\n",
    "x=np.zeros(100, dtype=int)\n",
    "#Inicializamos los pesos\n",
    "w = sorted([random.random() for i in range(100)])\n",
    "#Bias\n",
    "b = random.random()"
   ]
  },
  {
   "cell_type": "code",
   "execution_count": 2,
   "id": "57cdc1fd",
   "metadata": {},
   "outputs": [],
   "source": [
    "\n",
    "#Este tendria que ir si ejecutamos en archivo .py\n",
    "#os.path.join(os.path.dirname(__file__),\"src\",\"data\",\"distorsionadas\",\"100\")\n",
    "#Input de cantidad de datos a usar\n",
    "size = 100\n",
    "letter =['b','d','f']\n",
    "#b: es la clase 0 (cero)\n",
    "#d: es la clase 1 (uno)\n",
    "#f: es la clase 2 (dos)\n",
    "clase = [0,1,2]\n",
    "\n",
    "#ruta = os.path.join(os.path.abspath(''),\"data\",\"distorsionadas\",str(size),'letras'+'.csv')\n",
    "#data = pd.read_csv(ruta,sep=';', header=None)\n",
    "\n",
    "\n"
   ]
  },
  {
   "cell_type": "code",
   "execution_count": 22,
   "id": "f0b6aab2",
   "metadata": {},
   "outputs": [
    {
     "data": {
      "text/plain": [
       "99"
      ]
     },
     "execution_count": 22,
     "metadata": {},
     "output_type": "execute_result"
    }
   ],
   "source": [
    "b = pd.read_csv(os.path.join(os.path.abspath(''),\"data\",\"distorsionadas\",'100','letras_b.csv'),sep=';',header=None)\n",
    "d = pd.read_csv(os.path.join(os.path.abspath(''),\"data\",\"distorsionadas\",'100','letras_d.csv'),sep=';',header=None)\n",
    "f = pd.read_csv(os.path.join(os.path.abspath(''),\"data\",\"distorsionadas\",'100','letras_f.csv'),sep=';',header=None)\n",
    "letter =[b,d,f]\n",
    "data =[]\n",
    "aux=[]\n",
    "i=0\n",
    "while i<99:\n",
    "    for z in range(3):\n",
    "        for j in range(100):\n",
    "            aux.append((letter[z])[j][i])\n",
    "        data.append(aux)\n",
    "        aux=[]\n",
    "    i=i+3\n",
    "data = pd.DataFrame(data)\n",
    "data.to_csv('data_training.csv',sep=';',header=None,index=False)\n",
    "len(data)\n",
    "\n"
   ]
  },
  {
   "cell_type": "code",
   "execution_count": 18,
   "id": "5e3abdd2",
   "metadata": {},
   "outputs": [],
   "source": [
    "y=[]\n",
    "resultado=0\n",
    "#columna-fila\n",
    "for i in range (3):\n",
    " for i in range(100):\n",
    "   for j in range(100):\n",
    "     resultado= resultado + data[j][i]*w[j]  \n",
    "   y.append(sigmoide(resultado+b))\n",
    "   resultado=0"
   ]
  },
  {
   "cell_type": "code",
   "execution_count": null,
   "id": "09f60e00",
   "metadata": {},
   "outputs": [],
   "source": []
  }
 ],
 "metadata": {
  "kernelspec": {
   "display_name": "Python 3.10.7 64-bit (microsoft store)",
   "language": "python",
   "name": "python3"
  },
  "language_info": {
   "codemirror_mode": {
    "name": "ipython",
    "version": 3
   },
   "file_extension": ".py",
   "mimetype": "text/x-python",
   "name": "python",
   "nbconvert_exporter": "python",
   "pygments_lexer": "ipython3",
   "version": "3.10.7"
  },
  "vscode": {
   "interpreter": {
    "hash": "ba23b61cdc6890bf9b74f0059fdc1fca5173150fee92ba939d36054f0efba838"
   }
  }
 },
 "nbformat": 4,
 "nbformat_minor": 5
}
