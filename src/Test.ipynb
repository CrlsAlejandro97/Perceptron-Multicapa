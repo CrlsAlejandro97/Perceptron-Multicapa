{
 "cells": [
  {
   "cell_type": "code",
   "execution_count": 4,
   "metadata": {},
   "outputs": [],
   "source": [
    "from Perceptron import Perceptron\n",
    "import data_functions as df\n",
    "from functionsMaths import div_tuplas"
   ]
  },
  {
   "cell_type": "code",
   "execution_count": 5,
   "metadata": {},
   "outputs": [],
   "source": [
    "cantidad = \"100\"\n",
    "letras = df.get_letras_distorsionadas(cantidad)\n",
    "data_train = letras[:int(len(letras)*0.8)]\n",
    "data_test = letras[int(len(letras)*0.8)+1:int(len(letras)*0.8)+int(len(letras)*0.15)]\n",
    "data_validation = letras[int(len(letras)*0.8)+int(len(letras)*0.15)+1:99]"
   ]
  },
  {
   "cell_type": "code",
   "execution_count": 6,
   "metadata": {},
   "outputs": [],
   "source": [
    "letras_train = div_tuplas(data_train)\n",
    "letras_validation = div_tuplas(data_validation)\n",
    "letras_test = div_tuplas(data_test)"
   ]
  },
  {
   "cell_type": "code",
   "execution_count": 8,
   "metadata": {},
   "outputs": [],
   "source": [
    "perceptron = Perceptron([5,5], 0.25, 0.2,10)\n",
    "w, b = perceptron.init_params()\n",
    "capas = perceptron.init_layers()"
   ]
  },
  {
   "cell_type": "code",
   "execution_count": 9,
   "metadata": {},
   "outputs": [
    {
     "ename": "AttributeError",
     "evalue": "module 'functionsMaths' has no attribute 'derivate_error'",
     "output_type": "error",
     "traceback": [
      "\u001b[1;31m---------------------------------------------------------------------------\u001b[0m",
      "\u001b[1;31mAttributeError\u001b[0m                            Traceback (most recent call last)",
      "\u001b[1;32mc:\\Users\\aleoc\\OneDrive\\Escritorio\\Perceptron-Multicapa\\src\\Test.ipynb Celda 5\u001b[0m in \u001b[0;36m<cell line: 1>\u001b[1;34m()\u001b[0m\n\u001b[1;32m----> <a href='vscode-notebook-cell:/c%3A/Users/aleoc/OneDrive/Escritorio/Perceptron-Multicapa/src/Test.ipynb#W4sZmlsZQ%3D%3D?line=0'>1</a>\u001b[0m perceptron\u001b[39m.\u001b[39;49mtrain(data_train)\n",
      "File \u001b[1;32mc:\\Users\\aleoc\\OneDrive\\Escritorio\\Perceptron-Multicapa\\src\\Perceptron.py:172\u001b[0m, in \u001b[0;36mPerceptron.train\u001b[1;34m(self, data_train)\u001b[0m\n\u001b[0;32m    168\u001b[0m er \u001b[39m=\u001b[39m np\u001b[39m.\u001b[39msum([er, (ye\u001b[39m-\u001b[39my_obtenido)\u001b[39m*\u001b[39m\u001b[39m*\u001b[39m\u001b[39m2\u001b[39m], axis\u001b[39m=\u001b[39m\u001b[39m0\u001b[39m)\n\u001b[0;32m    169\u001b[0m \u001b[39m#----------------------------------------------------#\u001b[39;00m\n\u001b[1;32m--> 172\u001b[0m deltas \u001b[39m=\u001b[39m \u001b[39mself\u001b[39;49m\u001b[39m.\u001b[39;49mbackpropagation(ye, y[\u001b[39m-\u001b[39;49m\u001b[39m1\u001b[39;49m], w[\u001b[39m1\u001b[39;49m:])\n\u001b[0;32m    176\u001b[0m \u001b[39m#Backforward\u001b[39;00m\n\u001b[0;32m    177\u001b[0m \u001b[39m#w_prueba = w.copy()\u001b[39;00m\n\u001b[0;32m    178\u001b[0m \n\u001b[0;32m    179\u001b[0m \u001b[39m#Gradiente descendiete: Le paso los pesos, los deltas y las salidas de las capas\u001b[39;00m\n\u001b[0;32m    181\u001b[0m w, b \u001b[39m=\u001b[39m \u001b[39mself\u001b[39m\u001b[39m.\u001b[39mgradiente_descendente(w, b, deltas, y[:\u001b[39m3\u001b[39m], \u001b[39mself\u001b[39m\u001b[39m.\u001b[39maprendizaje, \u001b[39mself\u001b[39m\u001b[39m.\u001b[39mmomento)\n",
      "File \u001b[1;32mc:\\Users\\aleoc\\OneDrive\\Escritorio\\Perceptron-Multicapa\\src\\Perceptron.py:94\u001b[0m, in \u001b[0;36mPerceptron.backpropagation\u001b[1;34m(self, ye, ys3, w)\u001b[0m\n\u001b[0;32m     88\u001b[0m \u001b[39mdef\u001b[39;00m \u001b[39mbackpropagation\u001b[39m(\u001b[39mself\u001b[39m, ye, ys3, w):\n\u001b[0;32m     89\u001b[0m     \u001b[39m#ye: salida espera\u001b[39;00m\n\u001b[0;32m     90\u001b[0m     \u001b[39m#ys3: salida obtenida\u001b[39;00m\n\u001b[0;32m     91\u001b[0m     \u001b[39m#W:  vector peso de las capas\u001b[39;00m\n\u001b[0;32m     92\u001b[0m \n\u001b[0;32m     93\u001b[0m     \u001b[39m#Delta de capa de salida\u001b[39;00m\n\u001b[1;32m---> 94\u001b[0m     deltaOut \u001b[39m=\u001b[39m f\u001b[39m.\u001b[39;49mderivate_error(ys3,ye)\u001b[39m*\u001b[39mf\u001b[39m.\u001b[39mderivate_sigmoide(ys3)\n\u001b[0;32m     95\u001b[0m     deltas \u001b[39m=\u001b[39m[]\n\u001b[0;32m     96\u001b[0m     deltas\u001b[39m.\u001b[39mappend(deltaOut)\n",
      "\u001b[1;31mAttributeError\u001b[0m: module 'functionsMaths' has no attribute 'derivate_error'"
     ]
    }
   ],
   "source": [
    "perceptron.train(data_train)"
   ]
  }
 ],
 "metadata": {
  "kernelspec": {
   "display_name": "Python 3.10.8 64-bit (microsoft store)",
   "language": "python",
   "name": "python3"
  },
  "language_info": {
   "codemirror_mode": {
    "name": "ipython",
    "version": 3
   },
   "file_extension": ".py",
   "mimetype": "text/x-python",
   "name": "python",
   "nbconvert_exporter": "python",
   "pygments_lexer": "ipython3",
   "version": "3.10.8"
  },
  "orig_nbformat": 4,
  "vscode": {
   "interpreter": {
    "hash": "ba23b61cdc6890bf9b74f0059fdc1fca5173150fee92ba939d36054f0efba838"
   }
  }
 },
 "nbformat": 4,
 "nbformat_minor": 2
}
