{
 "cells": [
  {
   "cell_type": "code",
   "execution_count": 1,
   "metadata": {},
   "outputs": [],
   "source": [
    "import pandas as pd\n",
    "import numpy as np\n",
    "import random\n",
    "import matplotlib.pyplot as plt\n",
    "from functionsMaths import calculateDelta, get_mse,gradiente_descendente, feedforward, div_tuplas, init_params_test\n",
    "import os\n",
    "import math\n",
    "from statistics import mean"
   ]
  },
  {
   "cell_type": "code",
   "execution_count": 55,
   "metadata": {},
   "outputs": [],
   "source": [
    "#Cantidad de letras por cada set\n",
    "cantidad =['100','500','1000']\n",
    "\n",
    "#Porcentajes datos de validacion\n",
    "set_validation = [0.1,0.2,0.3]\n",
    "\n",
    "#Cantidad de epocas\n",
    "epocas = 30\n",
    "\n",
    "#Pruebas solicitadas\n",
    "#1er elemento corresponde a cantidad de neuronas por capas\n",
    "    #[5] = 5 neuronas con 1 capa oculta \n",
    "    #[5,5] = 5 neuronas con 2 capas ocultas\n",
    "#2do porcentaje de aprendizaje\n",
    "#3ro porcentaje de momento\n",
    "test =[ [[5],0.5,0.5], [[10],0.5,0.5], [[5,5],0.5,0.5], [[10,10],0.5,0.5]]"
   ]
  },
  {
   "cell_type": "code",
   "execution_count": 141,
   "metadata": {},
   "outputs": [],
   "source": [
    "rows = []\n",
    "for nro in range(len(test)):\n",
    "    #architecture\n",
    "    W,B = init_params_test(test[nro][0])\n",
    "    lr = np.array(test[nro][1])\n",
    "    m = np.array(test[nro][2])\n",
    "    Y = []\n",
    "    for set in range (len(cantidad)):\n",
    "        for percentage in range(len(set_validation)):\n",
    "        \n",
    "            data = (pd.read_csv(os.path.join(os.path.abspath(''),\"data\",\"distorsionadas\",cantidad[set],'letras.csv'),sep=';',header=None)).to_numpy()\n",
    "            #Convertimos el dataframe en array numpy\n",
    "            data_train = data[:int(len(data)-int(len(data)*set_validation[percentage])*2)]\n",
    "            data_validation = data[int(len(data)-int(len(data)*set_validation[percentage])*2):int(len(data)-int(len(data)*set_validation[percentage])*2)+int(len(data)*set_validation[percentage])]\n",
    "            data_test = data[int(len(data)-int(len(data)*set_validation[percentage])*2)+int(len(data)*set_validation[percentage]):]\n",
    "\n",
    "            #Division de datos en tuplas(datos,clase)\n",
    "            letras_train = div_tuplas(data_train)\n",
    "            letras_test = div_tuplas(data_train)\n",
    "            letras_validation = div_tuplas(data_validation)\n",
    "\n",
    "\n",
    "            #Comienzo de Perceptron\n",
    "            err_train_epoc = 0\n",
    "            err_valid_epoc = 0\n",
    "\n",
    "            for epoc in range(epocas):\n",
    "                err_training = np.array([0,0,0])\n",
    "                err_validation = np.array([0,0,0])\n",
    "\n",
    "                #TRAINING\n",
    "                for i in range(len(letras_train)):\n",
    "        \n",
    "                    Y = feedforward(letras_train[i][0],W,B,len(test[nro][0])+2)\n",
    "                    Ye = np.array(letras_train[i][1])\n",
    "                    err_training = err_training + ((Ye-Y[-1])**2)\n",
    "\n",
    "                    #Deltas\n",
    "                    deltas = calculateDelta(Y[-1],Ye,W[1:])\n",
    "\n",
    "                    W,B = gradiente_descendente(W,B,deltas,Y[0:len(Y)-1],lr,m)\n",
    "\n",
    "                #VALIDATION\n",
    "                for i in range(len(letras_validation)):\n",
    "                    Y = feedforward(letras_validation[i][0],W,B,len(test[nro][0])+2)\n",
    "                    Ye = np.array(letras_validation[i][1])\n",
    "                    err_validation = err_validation + ((Ye-Y[-1])**2)\n",
    "\n",
    "                err_train_epoc = get_mse(np.mean(err_training),len(letras_train))\n",
    "                err_valid_epoc = get_mse(np.mean(err_validation),len(letras_validation))\n",
    "                rows.append([len(test[nro][0]),test[nro][0][0],epoc,cantidad[set],set_validation[percentage]*100,err_train_epoc*100,err_valid_epoc*100])\n",
    "        \n",
    "    \n",
    "     "
   ]
  },
  {
   "cell_type": "code",
   "execution_count": 142,
   "metadata": {},
   "outputs": [],
   "source": [
    "tabla = pd.DataFrame(rows,columns=['count layer hidden','count neuron','epoc','count data','percentage validation','percentage error training','percentage error validation'])\n",
    "tabla.to_csv('pruebas_epoc30.csv', encoding='utf-8', index=False)"
   ]
  },
  {
   "cell_type": "code",
   "execution_count": 143,
   "metadata": {},
   "outputs": [],
   "source": [
    "df = (pd.read_csv(os.path.join(os.path.abspath(''),'pruebas_epoc30.csv'),delimiter=',',header=0))\n",
    "df = pd.DataFrame(df)"
   ]
  },
  {
   "cell_type": "code",
   "execution_count": 144,
   "metadata": {},
   "outputs": [
    {
     "data": {
      "text/html": [
       "<div>\n",
       "<style scoped>\n",
       "    .dataframe tbody tr th:only-of-type {\n",
       "        vertical-align: middle;\n",
       "    }\n",
       "\n",
       "    .dataframe tbody tr th {\n",
       "        vertical-align: top;\n",
       "    }\n",
       "\n",
       "    .dataframe thead th {\n",
       "        text-align: right;\n",
       "    }\n",
       "</style>\n",
       "<table border=\"1\" class=\"dataframe\">\n",
       "  <thead>\n",
       "    <tr style=\"text-align: right;\">\n",
       "      <th></th>\n",
       "      <th>count layer hidden</th>\n",
       "      <th>count neuron</th>\n",
       "      <th>epoc</th>\n",
       "      <th>count data</th>\n",
       "      <th>percentage validation</th>\n",
       "      <th>percentage error training</th>\n",
       "      <th>percentage error validation</th>\n",
       "    </tr>\n",
       "  </thead>\n",
       "  <tbody>\n",
       "    <tr>\n",
       "      <th>0</th>\n",
       "      <td>1</td>\n",
       "      <td>5</td>\n",
       "      <td>0</td>\n",
       "      <td>100</td>\n",
       "      <td>10.0</td>\n",
       "      <td>16.450443</td>\n",
       "      <td>10.315810</td>\n",
       "    </tr>\n",
       "    <tr>\n",
       "      <th>1</th>\n",
       "      <td>1</td>\n",
       "      <td>5</td>\n",
       "      <td>1</td>\n",
       "      <td>100</td>\n",
       "      <td>10.0</td>\n",
       "      <td>10.418801</td>\n",
       "      <td>8.456201</td>\n",
       "    </tr>\n",
       "    <tr>\n",
       "      <th>2</th>\n",
       "      <td>1</td>\n",
       "      <td>5</td>\n",
       "      <td>2</td>\n",
       "      <td>100</td>\n",
       "      <td>10.0</td>\n",
       "      <td>7.997782</td>\n",
       "      <td>5.960255</td>\n",
       "    </tr>\n",
       "    <tr>\n",
       "      <th>3</th>\n",
       "      <td>1</td>\n",
       "      <td>5</td>\n",
       "      <td>3</td>\n",
       "      <td>100</td>\n",
       "      <td>10.0</td>\n",
       "      <td>5.545180</td>\n",
       "      <td>4.038485</td>\n",
       "    </tr>\n",
       "    <tr>\n",
       "      <th>4</th>\n",
       "      <td>1</td>\n",
       "      <td>5</td>\n",
       "      <td>4</td>\n",
       "      <td>100</td>\n",
       "      <td>10.0</td>\n",
       "      <td>3.336758</td>\n",
       "      <td>2.340362</td>\n",
       "    </tr>\n",
       "  </tbody>\n",
       "</table>\n",
       "</div>"
      ],
      "text/plain": [
       "   count layer hidden  count neuron  epoc  count data  percentage validation  \\\n",
       "0                   1             5     0         100                   10.0   \n",
       "1                   1             5     1         100                   10.0   \n",
       "2                   1             5     2         100                   10.0   \n",
       "3                   1             5     3         100                   10.0   \n",
       "4                   1             5     4         100                   10.0   \n",
       "\n",
       "   percentage error training  percentage error validation  \n",
       "0                  16.450443                    10.315810  \n",
       "1                  10.418801                     8.456201  \n",
       "2                   7.997782                     5.960255  \n",
       "3                   5.545180                     4.038485  \n",
       "4                   3.336758                     2.340362  "
      ]
     },
     "execution_count": 144,
     "metadata": {},
     "output_type": "execute_result"
    }
   ],
   "source": [
    "df.head()"
   ]
  },
  {
   "cell_type": "code",
   "execution_count": 171,
   "metadata": {},
   "outputs": [],
   "source": [
    "#tabla = pd.DataFrame(rows,columns=['count layer hidden','count neuron','epoc','count data','percentage validation','percentage error training','percetage error validation'])\n",
    "#tabla.groupby(by=[\"percentage validation\"])['percentage error training'].mean()\n",
    "filt = df[(df['count layer hidden']==2) & (df['count neuron']==5) & (df['percentage validation']==10) & (df['count data']==1000)]\n",
    "#df.dtypes['count data']\n",
    "#error_train_epoc = filt['percentage error training']\n",
    "#error_valid_epoc = filt['percentage error validation']"
   ]
  },
  {
   "cell_type": "code",
   "execution_count": 172,
   "metadata": {},
   "outputs": [
    {
     "data": {
      "image/png": "[encoded data removed]",
      "text/plain": [
       "<Figure size 640x480 with 1 Axes>"
      ]
     },
     "metadata": {},
     "output_type": "display_data"
    }
   ],
   "source": [
    "x = np.array([i for i in range(epocas)])\n",
    "plt.plot(x,filt['percentage error training'], linestyle='-', marker='.', color = 'r')\n",
    "plt.plot(x,filt['percentage error validation'],linestyle='-', marker='.', color = 'g')\n",
    "plt.title('MSE vs Epocas')\n",
    "plt.xlabel('Epocas')\n",
    "plt.ylabel('MSE')\n",
    "plt.show()"
   ]
  }
 ],
 "metadata": {
  "kernelspec": {
   "display_name": "Python 3.10.8 64-bit (microsoft store)",
   "language": "python",
   "name": "python3"
  },
  "language_info": {
   "codemirror_mode": {
    "name": "ipython",
    "version": 3
   },
   "file_extension": ".py",
   "mimetype": "text/x-python",
   "name": "python",
   "nbconvert_exporter": "python",
   "pygments_lexer": "ipython3",
   "version": "3.10.8"
  },
  "orig_nbformat": 4,
  "vscode": {
   "interpreter": {
    "hash": "ba23b61cdc6890bf9b74f0059fdc1fca5173150fee92ba939d36054f0efba838"
   }
  }
 },
 "nbformat": 4,
 "nbformat_minor": 2
}
