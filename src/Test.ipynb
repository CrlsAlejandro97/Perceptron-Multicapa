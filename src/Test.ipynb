{
 "cells": [
  {
   "cell_type": "code",
   "execution_count": 22,
   "metadata": {},
   "outputs": [],
   "source": [
    "import pandas as pd\n",
    "import numpy as np\n",
    "import random\n",
    "import matplotlib.pyplot as plt\n",
    "from functionsMaths import calculateDelta, get_mse,gradiente_descendente, feedforward, div_tuplas\n",
    "import os\n",
    "import math\n",
    "from statistics import mean\n",
    "from Distorsionador import Distorsionador"
   ]
  },
  {
   "cell_type": "code",
   "execution_count": 5,
   "metadata": {},
   "outputs": [],
   "source": [
    "#Inicializamos los pesos de la Capa 1\n",
    "w = np.random.random(500)\n",
    "w11 = w[:100]\n",
    "w12 = w[100:200]\n",
    "w13 = w[200:300]\n",
    "w14 = w[300:400]\n",
    "w15 = w[400:500]\n",
    "W1=[w11,w12,w13,w14,w15]\n",
    "\n",
    "\n",
    "#Inicializamos los pesos de la Capa 2\n",
    "w = np.random.random(25)\n",
    "w21 = w[:5]\n",
    "w22 = w[5:10]\n",
    "w23 = w[10:15]\n",
    "w24 = w[15:20]\n",
    "w25 = w[20:25]\n",
    "W2 = [w21,w22,w23,w24,w25] \n",
    "\n",
    "\n",
    "#Incializamos los pesos de la Capa 3\n",
    "w = np.random.random(15)\n",
    "w31 = w[:5]\n",
    "w32 = w[5:10]\n",
    "w33 = w[10:15]\n",
    "W3 = [w31,w32,w33]\n",
    "\n",
    "#Conversiones\n",
    "W1 = np.array(W1)\n",
    "W2 = np.array(W2)\n",
    "W3 = np.array(W3)\n",
    "W = [W1,W2,W3]\n",
    "\n",
    "\n",
    "#Bias\n",
    "b = [random.random() for i in range(13)]\n",
    "b1= b[:5]\n",
    "b2 = b[5:10]\n",
    "b3 = b [10:]\n",
    "B = [b1,b2,b3]\n",
    "\n",
    "#Factor de aprendizaje\n",
    "alfa = np.array(random.random())\n",
    "beta = np.array(random.random())\n",
    "\n",
    "#Codificacion de clases\n",
    "#b = 100\n",
    "#d = 010\n",
    "#f = 001"
   ]
  },
  {
   "cell_type": "code",
   "execution_count": 45,
   "metadata": {},
   "outputs": [],
   "source": [
    "cantidad =['100','500','1000']\n",
    "set_validation = [0.1,0.2,0.3]"
   ]
  },
  {
   "cell_type": "code",
   "execution_count": 46,
   "metadata": {},
   "outputs": [
    {
     "name": "stdout",
     "output_type": "stream",
     "text": [
      "80\n",
      "10\n",
      "10\n",
      "60\n",
      "20\n",
      "20\n",
      "40\n",
      "30\n",
      "30\n",
      "400\n",
      "50\n",
      "50\n",
      "300\n",
      "100\n",
      "100\n",
      "200\n",
      "150\n",
      "150\n",
      "800\n",
      "100\n",
      "100\n",
      "600\n",
      "200\n",
      "200\n",
      "400\n",
      "300\n",
      "300\n"
     ]
    }
   ],
   "source": [
    "for set in range (len(cantidad)):\n",
    "    for percentage in range(len(set_validation)):\n",
    "        \n",
    "     data = (pd.read_csv(os.path.join(os.path.abspath(''),\"data\",\"distorsionadas\",cantidad[set],'letras.csv'),sep=';',header=None)).to_numpy()\n",
    "     #Convertimos el dataframe en array numpy\n",
    "     data_train = data[:int(len(data)-int(len(data)*set_validation[percentage])*2)]\n",
    "     data_validation = data[int(len(data)-int(len(data)*set_validation[percentage])*2):int(len(data)-int(len(data)*set_validation[percentage])*2)+int(len(data)*set_validation[percentage])]\n",
    "     data_test = data[int(len(data)-int(len(data)*set_validation[percentage])*2)+int(len(data)*set_validation[percentage]):]\n",
    "\n",
    "     #Division de datos en tuplas(datos,clase)\n",
    "     letras_train = div_tuplas(data_train)\n",
    "     letras_test = div_tuplas(data_train)\n",
    "     letras_validation = div_tuplas(data_validation)\n",
    "\n",
    "     tabla = pd.DataFrame(epocas)\n",
    "\n",
    "     #Comienzo de Perceptron\n",
    "     epocas =1\n",
    "     err_train_epoc = []\n",
    "     err_valid_epoc = []\n",
    "\n",
    "     for epoc in range(epocas):\n",
    "        err_training = np.array([0,0,0])\n",
    "        err_validation = np.array([0,0,0])\n",
    "    \n",
    "        for i in range(len(letras_train)):\n",
    "        \n",
    "         #TRAINING\n",
    "         Y = feedforward(letras_train[i][0],W,B)\n",
    "         Ye = np.array(letras_train[i][1])\n",
    "         err_training = err_training + ((Ye-Y[-1])**2)\n",
    "\n",
    "         #Deltas\n",
    "         deltas = calculateDelta(Y[-1],Ye,W[1:])\n",
    "\n",
    "         W,B = gradiente_descendente(W,B,deltas,Y[0:3],alfa,beta)\n",
    "         W1 = W[0]\n",
    "         W2 = W[1]\n",
    "         W3 = W[2]\n",
    "         b1 = B[0]\n",
    "         b2 = B[1]\n",
    "         b3 = B[2]\n",
    "\n",
    "        #VALIDATION\n",
    "        for i in range(len(letras_validation)):\n",
    "         Y = feedforward(letras_validation[i][0],W,B)\n",
    "         Ye = np.array(letras_validation[i][1])\n",
    "         err_validation = err_validation + ((Ye-Y[-1])**2)\n",
    "\n",
    "        err_train_epoc.append(get_mse(np.mean(err_training),len(letras_train)))\n",
    "        err_valid_epoc.append(get_mse(np.mean(err_validation),len(letras_validation)))\n"
   ]
  },
  {
   "cell_type": "code",
   "execution_count": 44,
   "metadata": {},
   "outputs": [
    {
     "name": "stdout",
     "output_type": "stream",
     "text": [
      "80\n",
      "10\n",
      "10\n"
     ]
    }
   ],
   "source": [
    "print(len(data_train))\n",
    "print(len(data_validation))\n",
    "print(len(data_test))"
   ]
  },
  {
   "cell_type": "code",
   "execution_count": 30,
   "metadata": {},
   "outputs": [
    {
     "ename": "TypeError",
     "evalue": "list indices must be integers or slices, not float",
     "output_type": "error",
     "traceback": [
      "\u001b[1;31m---------------------------------------------------------------------------\u001b[0m",
      "\u001b[1;31mTypeError\u001b[0m                                 Traceback (most recent call last)",
      "\u001b[1;32mc:\\Users\\aleoc\\OneDrive\\Escritorio\\Perceptron-Multicapa\\src\\Test.ipynb Celda 6\u001b[0m in \u001b[0;36m<cell line: 3>\u001b[1;34m()\u001b[0m\n\u001b[0;32m      <a href='vscode-notebook-cell:/c%3A/Users/aleoc/OneDrive/Escritorio/Perceptron-Multicapa/src/Test.ipynb#X10sZmlsZQ%3D%3D?line=0'>1</a>\u001b[0m data \u001b[39m=\u001b[39m (pd\u001b[39m.\u001b[39mread_csv(os\u001b[39m.\u001b[39mpath\u001b[39m.\u001b[39mjoin(os\u001b[39m.\u001b[39mpath\u001b[39m.\u001b[39mabspath(\u001b[39m'\u001b[39m\u001b[39m'\u001b[39m),\u001b[39m\"\u001b[39m\u001b[39mdata\u001b[39m\u001b[39m\"\u001b[39m,\u001b[39m\"\u001b[39m\u001b[39mdistorsionadas\u001b[39m\u001b[39m\"\u001b[39m,cantidad[\u001b[39m0\u001b[39m],\u001b[39m'\u001b[39m\u001b[39mletras.csv\u001b[39m\u001b[39m'\u001b[39m),sep\u001b[39m=\u001b[39m\u001b[39m'\u001b[39m\u001b[39m;\u001b[39m\u001b[39m'\u001b[39m,header\u001b[39m=\u001b[39m\u001b[39mNone\u001b[39;00m))\u001b[39m.\u001b[39mto_numpy()\n\u001b[0;32m      <a href='vscode-notebook-cell:/c%3A/Users/aleoc/OneDrive/Escritorio/Perceptron-Multicapa/src/Test.ipynb#X10sZmlsZQ%3D%3D?line=1'>2</a>\u001b[0m \u001b[39m#Convertimos el dataframe en array numpy\u001b[39;00m\n\u001b[1;32m----> <a href='vscode-notebook-cell:/c%3A/Users/aleoc/OneDrive/Escritorio/Perceptron-Multicapa/src/Test.ipynb#X10sZmlsZQ%3D%3D?line=2'>3</a>\u001b[0m data_train \u001b[39m=\u001b[39m data[:\u001b[39mint\u001b[39m(\u001b[39mlen\u001b[39m(data)\u001b[39m-\u001b[39m\u001b[39mint\u001b[39m(\u001b[39mlen\u001b[39m(data)\u001b[39m*\u001b[39mset_validation[percentage])\u001b[39m*\u001b[39m\u001b[39m2\u001b[39m)]\n\u001b[0;32m      <a href='vscode-notebook-cell:/c%3A/Users/aleoc/OneDrive/Escritorio/Perceptron-Multicapa/src/Test.ipynb#X10sZmlsZQ%3D%3D?line=3'>4</a>\u001b[0m data_validation \u001b[39m=\u001b[39m data[\u001b[39mint\u001b[39m(\u001b[39mlen\u001b[39m(data)\u001b[39m-\u001b[39m\u001b[39mint\u001b[39m(\u001b[39mlen\u001b[39m(data)\u001b[39m*\u001b[39mset_validation[percentage])\u001b[39m*\u001b[39m\u001b[39m2\u001b[39m):\u001b[39mint\u001b[39m(\u001b[39mlen\u001b[39m(data)\u001b[39m-\u001b[39m\u001b[39mint\u001b[39m(\u001b[39mlen\u001b[39m(data)\u001b[39m*\u001b[39mset_validation[percentage])\u001b[39m*\u001b[39m\u001b[39m2\u001b[39m)\u001b[39m+\u001b[39mcantidad\u001b[39m*\u001b[39mset_validation[percentage]]\n\u001b[0;32m      <a href='vscode-notebook-cell:/c%3A/Users/aleoc/OneDrive/Escritorio/Perceptron-Multicapa/src/Test.ipynb#X10sZmlsZQ%3D%3D?line=4'>5</a>\u001b[0m data_test \u001b[39m=\u001b[39m data[\u001b[39mint\u001b[39m(\u001b[39mlen\u001b[39m(data)\u001b[39m-\u001b[39m\u001b[39mint\u001b[39m(\u001b[39mlen\u001b[39m(data)\u001b[39m*\u001b[39mset_validation[percentage])\u001b[39m*\u001b[39m\u001b[39m2\u001b[39m)\u001b[39m+\u001b[39mcantidad\u001b[39m*\u001b[39mset_validation[percentage]:]\n",
      "\u001b[1;31mTypeError\u001b[0m: list indices must be integers or slices, not float"
     ]
    }
   ],
   "source": [
    "data = (pd.read_csv(os.path.join(os.path.abspath(''),\"data\",\"distorsionadas\",cantidad[0],'letras.csv'),sep=';',header=None)).to_numpy()\n",
    "#Convertimos el dataframe en array numpy\n",
    "data_train = data[:int(len(data)-int(len(data)*set_validation[percentage])*2)]\n",
    "data_validation = data[int(len(data)-int(len(data)*set_validation[percentage])*2):int(len(data)-int(len(data)*set_validation[percentage])*2)+cantidad*set_validation[percentage]]\n",
    "data_test = data[int(len(data)-int(len(data)*set_validation[percentage])*2)+cantidad*set_validation[percentage]:]"
   ]
  },
  {
   "cell_type": "code",
   "execution_count": null,
   "metadata": {},
   "outputs": [],
   "source": [
    "set =['100','500','1000']\n",
    "set_validation = [0.1,0.2,0.3]\n",
    "data=[set,set_validation]\n",
    "tabla = pd.DataFrame(data,colum=)"
   ]
  }
 ],
 "metadata": {
  "kernelspec": {
   "display_name": "Python 3.10.8 64-bit (microsoft store)",
   "language": "python",
   "name": "python3"
  },
  "language_info": {
   "codemirror_mode": {
    "name": "ipython",
    "version": 3
   },
   "file_extension": ".py",
   "mimetype": "text/x-python",
   "name": "python",
   "nbconvert_exporter": "python",
   "pygments_lexer": "ipython3",
   "version": "3.10.8"
  },
  "orig_nbformat": 4,
  "vscode": {
   "interpreter": {
    "hash": "ba23b61cdc6890bf9b74f0059fdc1fca5173150fee92ba939d36054f0efba838"
   }
  }
 },
 "nbformat": 4,
 "nbformat_minor": 2
}
