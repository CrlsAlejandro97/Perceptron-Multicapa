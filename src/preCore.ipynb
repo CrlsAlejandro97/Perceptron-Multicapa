{
 "cells": [
  {
   "cell_type": "code",
   "execution_count": 2,
   "id": "3637cffd",
   "metadata": {},
   "outputs": [],
   "source": [
    "import pandas as pd\n",
    "import numpy as np\n",
    "import random\n",
    "import matplotlib.pyplot as plt\n",
    "from function import sigmoide\n",
    "import os "
   ]
  },
  {
   "cell_type": "code",
   "execution_count": 33,
   "id": "6d8f4901",
   "metadata": {},
   "outputs": [
    {
     "data": {
      "text/plain": [
       "100"
      ]
     },
     "execution_count": 33,
     "metadata": {},
     "output_type": "execute_result"
    }
   ],
   "source": [
    "\n",
    "#Capa de entrada\n",
    "x=np.zeros(100, dtype=int)\n",
    "#Inicializamos los pesos (100 por cada neurona, tenemos 5 neuronas)\n",
    "w = np.random.rand(500)\n",
    "w1 = w[:100]\n",
    "w2 = w[100:200]\n",
    "w3 = w[200:300]\n",
    "w4 = w[300:400]\n",
    "w5 = w[400:500]\n",
    "#Bias\n",
    "b = random.random()\n",
    "#Codificacion de clases\n",
    "#b = 00000\n",
    "#d = 00001\n",
    "#f = 00010\n",
    "Y=[[0,0,0,0,0],[0,0,0,0,1],[0,0,0,1,0]]"
   ]
  },
  {
   "cell_type": "code",
   "execution_count": 9,
   "id": "57cdc1fd",
   "metadata": {},
   "outputs": [],
   "source": [
    "\n",
    "#Este tendria que ir si ejecutamos en archivo .py\n",
    "#os.path.join(os.path.dirname(__file__),\"src\",\"data\",\"distorsionadas\",\"100\")\n",
    "#Input de cantidad de datos a usar\n",
    "size = 100\n",
    "letter =['b','d','f']\n",
    "#b: es la clase 0 (cero)\n",
    "#d: es la clase 1 (uno)\n",
    "#f: es la clase 2 (dos)\n",
    "clase = [0,1,2]\n",
    "\n",
    "#ruta = os.path.join(os.path.abspath(''),\"data\",\"distorsionadas\",str(size),'letras'+'.csv')\n",
    "#data = pd.read_csv(ruta,sep=';', header=None)\n",
    "\n",
    "\n"
   ]
  },
  {
   "cell_type": "code",
   "execution_count": 14,
   "id": "f0b6aab2",
   "metadata": {},
   "outputs": [],
   "source": [
    "b = pd.read_csv(os.path.join(os.path.abspath(''),\"data\",\"distorsionadas\",'100','letras_b.csv'),sep=';',header=None)\n",
    "d = pd.read_csv(os.path.join(os.path.abspath(''),\"data\",\"distorsionadas\",'100','letras_d.csv'),sep=';',header=None)\n",
    "f = pd.read_csv(os.path.join(os.path.abspath(''),\"data\",\"distorsionadas\",'100','letras_f.csv'),sep=';',header=None)\n",
    "letter =[b,d,f]\n",
    "data =[]\n",
    "aux=[]\n",
    "i=0\n",
    "while i<99:\n",
    "    for z in range(3):\n",
    "        for j in range(100):\n",
    "            aux.append((letter[z])[j][i])\n",
    "        data.append(aux)\n",
    "        aux=[]\n",
    "    i=i+3\n",
    "#Se define como dateframe para poder leer el csv mas facil\n",
    "data = pd.DataFrame(data)\n",
    "data.to_csv('data.csv',sep=';',header=None,index=False)\n"
   ]
  },
  {
   "cell_type": "code",
   "execution_count": 23,
   "id": "3c01ee8c",
   "metadata": {},
   "outputs": [
    {
     "data": {
      "text/plain": [
       "79"
      ]
     },
     "execution_count": 23,
     "metadata": {},
     "output_type": "execute_result"
    }
   ],
   "source": [
    "#Convertimos el dataframe en array numpy\n",
    "data_train = (data[:int(len(data)*0.8)]).to_numpy()\n",
    "data_test = (data[int(len(data)*0.8)+1:int(len(data)*0.8)+int(len(data)*0.15)]).to_numpy()\n",
    "data_validation = data[int(len(data)*0.8)+int(len(data)*0.15)+1:99].to_numpy()"
   ]
  },
  {
   "cell_type": "code",
   "execution_count": null,
   "id": "bc01b4a7",
   "metadata": {},
   "outputs": [],
   "source": [
    "\"\"\"Tendria que crear un vector de clases \"Y\" y multiplicarlo por el vector data, haciendo\n",
    "corresponder cada fila con su clase.\n",
    "Primero voy multiplicar los pesos con las entradas para ver que valores me da\"\"\""
   ]
  },
  {
   "cell_type": "code",
   "execution_count": 27,
   "id": "5e3abdd2",
   "metadata": {},
   "outputs": [
    {
     "data": {
      "text/plain": [
       "79"
      ]
     },
     "execution_count": 27,
     "metadata": {},
     "output_type": "execute_result"
    }
   ],
   "source": [
    "#Esto hay optimizar\n",
    "y=[]\n",
    "resultado=0\n",
    "#columna-fila\n",
    "for i in range(79):\n",
    "  for j in range(100):\n",
    "     resultado= resultado + data_train[i][j]*w[j]  \n",
    "  y.append(resultado+b)\n",
    "  resultado=0\n",
    "len(y)"
   ]
  }
 ],
 "metadata": {
  "kernelspec": {
   "display_name": "Python 3.10.7 64-bit (microsoft store)",
   "language": "python",
   "name": "python3"
  },
  "language_info": {
   "codemirror_mode": {
    "name": "ipython",
    "version": 3
   },
   "file_extension": ".py",
   "mimetype": "text/x-python",
   "name": "python",
   "nbconvert_exporter": "python",
   "pygments_lexer": "ipython3",
   "version": "3.10.7"
  },
  "vscode": {
   "interpreter": {
    "hash": "ba23b61cdc6890bf9b74f0059fdc1fca5173150fee92ba939d36054f0efba838"
   }
  }
 },
 "nbformat": 4,
 "nbformat_minor": 5
}
