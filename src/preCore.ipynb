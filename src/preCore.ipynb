{
 "cells": [
  {
   "cell_type": "code",
   "execution_count": 22,
   "id": "3637cffd",
   "metadata": {},
   "outputs": [],
   "source": [
    "import pandas as pd\n",
    "import numpy as np\n",
    "import random\n",
    "import matplotlib.pyplot as plt\n",
    "from function import lineal, sigmoide\n",
    "import os "
   ]
  },
  {
   "cell_type": "code",
   "execution_count": 19,
   "id": "6d8f4901",
   "metadata": {},
   "outputs": [
    {
     "name": "stdout",
     "output_type": "stream",
     "text": [
      "540\n"
     ]
    }
   ],
   "source": [
    "\"\"\"#Inicializamos los pesos CAPA 1 (5 por cada neurona de entrada, tenemos 100 valores de entrada)\n",
    "w1=0\n",
    "for i in range(100):\n",
    "    w1 = np.random.rand(5)    \n",
    "#Inicializamos los pesos CAPA 2 (5 por cada neurona, tenemos 5 neuronas)\n",
    "for i in range(5):\n",
    "    w2 = np.random.rand(5) \n",
    "#Inicializamos los pesos CAPA de salida (5 por cada neurona, tenemos 3 neuronas de salida)\n",
    "for i in range(3):\n",
    " w3 = np.random.rand(5)\n",
    "#Bias\n",
    "B = random.random()\n",
    "#Factor de aprendizaje\n",
    "alfa = random.random()\n",
    "#Codificacion de clases\n",
    "#b = 100\n",
    "#d = 010\n",
    "#f = 001\n",
    "Ye =[int('100',2),int('010',2),int('001',2)]\"\"\""
   ]
  },
  {
   "cell_type": "code",
   "execution_count": 28,
   "id": "4d8d5462",
   "metadata": {},
   "outputs": [],
   "source": [
    "#Inicializamos los pesos de la Capa 1\n",
    "w = np.random.random(500)\n",
    "w11 = w[:100]\n",
    "w12 = w[100:200]\n",
    "w13 = w[200:300]\n",
    "w14 = w[400:500]\n",
    "w15 = w[:500]\n",
    "W1=[w11,w12,w13,w14,w15]\n",
    "\n",
    "#Inicializamos los pesos de la Capa 2\n",
    "w = np.random.random(25)\n",
    "w21 = w[:5]\n",
    "w22 = w[5:10]\n",
    "w23 = w[10:15]\n",
    "w24 = w[15:20]\n",
    "w25 = w[:20]\n",
    "W2 = [w21,w22,w23,w24,w25] \n",
    "\n",
    "#Incializamos los pesos de la Capa 3\n",
    "w = np.random.random(15)\n",
    "w31 = w[:5]\n",
    "w32 = w[5:10]\n",
    "w33 = w[10:15]\n",
    "W3 = [w31,w32,w33]\n",
    "\n",
    "#Bias\n",
    "B = random.random()\n",
    "\n",
    "#Factor de aprendizaje\n",
    "alfa = random.random()\n",
    "\n",
    "#Codificacion de clases\n",
    "#b = 100\n",
    "#d = 010\n",
    "#f = 001\n",
    "Ye =[{'b':[1,0,0]},{'d':[0,1,0]},{'f':[0,0,1]}]"
   ]
  },
  {
   "cell_type": "code",
   "execution_count": 29,
   "id": "06703312",
   "metadata": {},
   "outputs": [],
   "source": [
    "data = (pd.read_csv(os.path.join(os.path.abspath(''),\"data\",\"distorsionadas\",'100','letras.csv'),sep=';',header=None)).to_numpy()\n",
    "#Convertimos el dataframe en array numpy\n",
    "data_train = data[:int(len(data)*0.8)]\n",
    "data_test = data[int(len(data)*0.8)+1:int(len(data)*0.8)+int(len(data)*0.15)]\n",
    "data_validation = data[int(len(data)*0.8)+int(len(data)*0.15)+1:99]\n"
   ]
  },
  {
   "cell_type": "code",
   "execution_count": 30,
   "id": "d2a880c1",
   "metadata": {},
   "outputs": [
    {
     "ename": "ValueError",
     "evalue": "operands could not be broadcast together with shapes (100,) (500,) ",
     "output_type": "error",
     "traceback": [
      "\u001b[1;31m---------------------------------------------------------------------------\u001b[0m",
      "\u001b[1;31mValueError\u001b[0m                                Traceback (most recent call last)",
      "\u001b[1;32mc:\\Users\\aleoc\\OneDrive\\Escritorio\\Perceptron-Multicapa\\src\\preCore.ipynb Celda 5\u001b[0m in \u001b[0;36m<cell line: 4>\u001b[1;34m()\u001b[0m\n\u001b[0;32m      <a href='vscode-notebook-cell:/c%3A/Users/aleoc/OneDrive/Escritorio/Perceptron-Multicapa/src/preCore.ipynb#X11sZmlsZQ%3D%3D?line=5'>6</a>\u001b[0m aux \u001b[39m=\u001b[39m []\n\u001b[0;32m      <a href='vscode-notebook-cell:/c%3A/Users/aleoc/OneDrive/Escritorio/Perceptron-Multicapa/src/preCore.ipynb#X11sZmlsZQ%3D%3D?line=6'>7</a>\u001b[0m \u001b[39mfor\u001b[39;00m j \u001b[39min\u001b[39;00m \u001b[39mrange\u001b[39m(\u001b[39mlen\u001b[39m(W1)):\n\u001b[1;32m----> <a href='vscode-notebook-cell:/c%3A/Users/aleoc/OneDrive/Escritorio/Perceptron-Multicapa/src/preCore.ipynb#X11sZmlsZQ%3D%3D?line=7'>8</a>\u001b[0m     resultado \u001b[39m=\u001b[39m (np\u001b[39m.\u001b[39;49mmultiply(data_train[i],W1[j]))\n\u001b[0;32m      <a href='vscode-notebook-cell:/c%3A/Users/aleoc/OneDrive/Escritorio/Perceptron-Multicapa/src/preCore.ipynb#X11sZmlsZQ%3D%3D?line=8'>9</a>\u001b[0m     resultado \u001b[39m=\u001b[39m np\u001b[39m.\u001b[39msum(resultado, dtype\u001b[39m=\u001b[39mnp\u001b[39m.\u001b[39mfloat32)\n\u001b[0;32m     <a href='vscode-notebook-cell:/c%3A/Users/aleoc/OneDrive/Escritorio/Perceptron-Multicapa/src/preCore.ipynb#X11sZmlsZQ%3D%3D?line=9'>10</a>\u001b[0m     resultado \u001b[39m=\u001b[39m resultado\u001b[39m+\u001b[39mB\n",
      "\u001b[1;31mValueError\u001b[0m: operands could not be broadcast together with shapes (100,) (500,) "
     ]
    }
   ],
   "source": [
    "#n=10\n",
    "#for epoc in range(n):\n",
    "    #Ingresa la primer letra\n",
    "for i in range(len(data_train)):\n",
    "    primera_capa = []\n",
    "    aux = []\n",
    "    for j in range(len(W1)):\n",
    "        resultado = (np.multiply(data_train[i],W1[j]))\n",
    "        resultado = np.sum(resultado, dtype=np.float32)\n",
    "        resultado = resultado+B\n",
    "        aux.append(lineal(resultado))\n",
    "    primera_capa.append(aux)\n",
    "        #print(\"Capa de salida\")\n",
    "        #print(primera_capa)\n",
    "        #Ingresan las 5 salidas de la primer capa a la segunda capa\n",
    "    segunda_capa =[]\n",
    "    for x in range(len(primera_capa)):\n",
    "        aux=[]\n",
    "        for j in range(len(W2)):\n",
    "            resultado = (np.multiply(primera_capa[x],W2[j]))\n",
    "            resultado = np.sum(resultado, dtype=np.float32)\n",
    "            resultado = resultado+B\n",
    "            aux.append(sigmoide(resultado))\n",
    "        segunda_capa.append(aux)\n",
    "\n",
    "    \"\"\"#Ingresan las 25 salidas de la segunda a capa a la capa de salida (5 por cada neurona)\n",
    "     for x in range(len(segunda_capa)):\n",
    "                capa_salida = []\n",
    "                for j in range(len(W3)):\n",
    "                    resultado = (np.multiply(segunda_capa[x],W3[j]))\n",
    "                    resultado = np.sum(resultado, dtype=np.float32)\n",
    "                    resultado = resultado+B\n",
    "                    capa_salida.append(sigmoide(resultado))\"\"\"\n",
    "    \n"
   ]
  },
  {
   "cell_type": "code",
   "execution_count": 25,
   "id": "53f38620",
   "metadata": {},
   "outputs": [
    {
     "data": {
      "text/plain": [
       "0.44179834992548417"
      ]
     },
     "execution_count": 25,
     "metadata": {},
     "output_type": "execute_result"
    }
   ],
   "source": [
    "np.random.random()"
   ]
  }
 ],
 "metadata": {
  "kernelspec": {
   "display_name": "Python 3.10.7 64-bit (microsoft store)",
   "language": "python",
   "name": "python3"
  },
  "language_info": {
   "codemirror_mode": {
    "name": "ipython",
    "version": 3
   },
   "file_extension": ".py",
   "mimetype": "text/x-python",
   "name": "python",
   "nbconvert_exporter": "python",
   "pygments_lexer": "ipython3",
   "version": "3.10.8"
  },
  "vscode": {
   "interpreter": {
    "hash": "ba23b61cdc6890bf9b74f0059fdc1fca5173150fee92ba939d36054f0efba838"
   }
  }
 },
 "nbformat": 4,
 "nbformat_minor": 5
}
