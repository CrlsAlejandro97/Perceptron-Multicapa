{
 "cells": [
  {
   "cell_type": "code",
   "execution_count": 10,
   "id": "3637cffd",
   "metadata": {},
   "outputs": [],
   "source": [
    "import pandas as pd\n",
    "import numpy as np\n",
    "import random\n",
    "import matplotlib.pyplot as plt\n",
    "from function import lineal, sigmoide\n",
    "import os "
   ]
  },
  {
   "cell_type": "code",
   "execution_count": 9,
   "id": "6d8f4901",
   "metadata": {},
   "outputs": [],
   "source": [
    "\n",
    "#Capa de entrada\n",
    "x=np.zeros(100, dtype=int)\n",
    "#Inicializamos los pesos (100 por cada neurona, tenemos 5 neuronas)\n",
    "w = np.random.rand(500)\n",
    "w11 = w[:100]\n",
    "w12 = w[100:200]\n",
    "w13 = w[200:300]\n",
    "w14 = w[300:400]\n",
    "w15 = w[400:500]\n",
    "W1 = [w11,w12,w13,w14,w15]\n",
    "\n",
    "w = np.random.rand(25)\n",
    "w21 = w[:5]\n",
    "w22 = w[5:10]\n",
    "w23 = w[10:15]\n",
    "w24 = w[15:20]\n",
    "w25 = w[20:25]\n",
    "W2 = [w21,w22,w23,w24,w25]\n",
    "#Bias\n",
    "b = random.random()\n",
    "#Codificacion de clases\n",
    "#b = 00000\n",
    "#d = 00001\n",
    "#f = 00010\n",
    "Y=[[0,0,0,0,0],[0,0,0,0,1],[0,0,0,1,0]]"
   ]
  },
  {
   "cell_type": "code",
   "execution_count": 4,
   "id": "57cdc1fd",
   "metadata": {},
   "outputs": [],
   "source": [
    "\n",
    "#Este tendria que ir si ejecutamos en archivo .py\n",
    "#os.path.join(os.path.dirname(__file__),\"src\",\"data\",\"distorsionadas\",\"100\")\n",
    "#Input de cantidad de datos a usar\n",
    "size = 100\n",
    "letter =['b','d','f']\n",
    "#b: es la clase 0 (cero)\n",
    "#d: es la clase 1 (uno)\n",
    "#f: es la clase 2 (dos)\n",
    "clase = [0,1,2]\n",
    "\n",
    "#ruta = os.path.join(os.path.abspath(''),\"data\",\"distorsionadas\",str(size),'letras'+'.csv')\n",
    "#data = pd.read_csv(ruta,sep=';', header=None)\n",
    "\n",
    "\n"
   ]
  },
  {
   "cell_type": "code",
   "execution_count": 10,
   "id": "f0b6aab2",
   "metadata": {},
   "outputs": [],
   "source": [
    "b = (pd.read_csv(os.path.join(os.path.abspath(''),\"data\",\"distorsionadas\",'100','letras_b.csv'),sep=';',header=None)).to_numpy()\n",
    "d = (pd.read_csv(os.path.join(os.path.abspath(''),\"data\",\"distorsionadas\",'100','letras_d.csv'),sep=';',header=None)).to_numpy()\n",
    "f = (pd.read_csv(os.path.join(os.path.abspath(''),\"data\",\"distorsionadas\",'100','letras_f.csv'),sep=';',header=None)).to_numpy()\n",
    "letter =[b,d,f]\n",
    "data =[]\n",
    "aux=[]\n",
    "i=0\n",
    "while i<99:\n",
    "    for j in range(3):\n",
    "     data.append((letter[j])[i])\n",
    "    i=i+3\n",
    "data.append(b[70])\n",
    "#Se define como dateframe para poder leer el csv mas facil\n",
    "#data = pd.DataFrame(data)\n",
    "#data.to_csv('data.csv',sep=';',header=None,index=False)"
   ]
  },
  {
   "cell_type": "code",
   "execution_count": 6,
   "id": "3c01ee8c",
   "metadata": {},
   "outputs": [],
   "source": [
    "#Convertimos el dataframe en array numpy\n",
    "data_train = data[:int(len(data)*0.8)]\n",
    "data_test = data[int(len(data)*0.8)+1:int(len(data)*0.8)+int(len(data)*0.15)]\n",
    "data_validation = data[int(len(data)*0.8)+int(len(data)*0.15)+1:99]"
   ]
  },
  {
   "cell_type": "code",
   "execution_count": 7,
   "id": "bc01b4a7",
   "metadata": {},
   "outputs": [
    {
     "data": {
      "text/plain": [
       "'Tendria que crear un vector de clases \"Y\" y multiplicarlo por el vector data, haciendo\\ncorresponder cada fila con su clase.\\nPrimero voy multiplicar los pesos con las entradas para ver que valores me da'"
      ]
     },
     "execution_count": 7,
     "metadata": {},
     "output_type": "execute_result"
    }
   ],
   "source": [
    "\"\"\"Tendria que crear un vector de clases \"Y\" y multiplicarlo por el vector data, haciendo\n",
    "corresponder cada fila con su clase.\n",
    "Primero voy multiplicar los pesos con las entradas para ver que valores me da\"\"\""
   ]
  },
  {
   "cell_type": "code",
   "execution_count": 12,
   "id": "d2a880c1",
   "metadata": {},
   "outputs": [
    {
     "ename": "ValueError",
     "evalue": "The truth value of an array with more than one element is ambiguous. Use a.any() or a.all()",
     "output_type": "error",
     "traceback": [
      "\u001b[1;31m---------------------------------------------------------------------------\u001b[0m",
      "\u001b[1;31mValueError\u001b[0m                                Traceback (most recent call last)",
      "\u001b[1;32mc:\\Users\\aleoc\\OneDrive\\Escritorio\\Perceptron-Multicapa\\src\\preCore.ipynb Celda 7\u001b[0m in \u001b[0;36m<cell line: 3>\u001b[1;34m()\u001b[0m\n\u001b[0;32m      <a href='vscode-notebook-cell:/c%3A/Users/aleoc/OneDrive/Escritorio/Perceptron-Multicapa/src/preCore.ipynb#X30sZmlsZQ%3D%3D?line=4'>5</a>\u001b[0m     resultado \u001b[39m=\u001b[39m np\u001b[39m.\u001b[39msum(resultado, dtype\u001b[39m=\u001b[39mnp\u001b[39m.\u001b[39mfloat32)\n\u001b[0;32m      <a href='vscode-notebook-cell:/c%3A/Users/aleoc/OneDrive/Escritorio/Perceptron-Multicapa/src/preCore.ipynb#X30sZmlsZQ%3D%3D?line=5'>6</a>\u001b[0m     resultado \u001b[39m=\u001b[39m resultado\u001b[39m+\u001b[39mb\n\u001b[1;32m----> <a href='vscode-notebook-cell:/c%3A/Users/aleoc/OneDrive/Escritorio/Perceptron-Multicapa/src/preCore.ipynb#X30sZmlsZQ%3D%3D?line=6'>7</a>\u001b[0m     primera_capa\u001b[39m.\u001b[39mappend(lineal(resultado))\n\u001b[0;32m      <a href='vscode-notebook-cell:/c%3A/Users/aleoc/OneDrive/Escritorio/Perceptron-Multicapa/src/preCore.ipynb#X30sZmlsZQ%3D%3D?line=8'>9</a>\u001b[0m segunda_capa \u001b[39m=\u001b[39m []\n\u001b[0;32m     <a href='vscode-notebook-cell:/c%3A/Users/aleoc/OneDrive/Escritorio/Perceptron-Multicapa/src/preCore.ipynb#X30sZmlsZQ%3D%3D?line=9'>10</a>\u001b[0m \u001b[39m#for x in range(len(primera_capa)):\u001b[39;00m\n",
      "File \u001b[1;32mc:\\Users\\aleoc\\OneDrive\\Escritorio\\Perceptron-Multicapa\\src\\function.py:9\u001b[0m, in \u001b[0;36mlineal\u001b[1;34m(x)\u001b[0m\n\u001b[0;32m      7\u001b[0m \u001b[39mdef\u001b[39;00m \u001b[39mlineal\u001b[39m(x):\n\u001b[0;32m      8\u001b[0m     c\u001b[39m=\u001b[39m\u001b[39m9.572340\u001b[39m\n\u001b[1;32m----> 9\u001b[0m     \u001b[39mif\u001b[39;00m x\u001b[39m>\u001b[39;49mc:\n\u001b[0;32m     10\u001b[0m         \u001b[39mreturn\u001b[39;00m \u001b[39m1\u001b[39m\n\u001b[0;32m     11\u001b[0m     \u001b[39melse\u001b[39;00m:\n",
      "\u001b[1;31mValueError\u001b[0m: The truth value of an array with more than one element is ambiguous. Use a.any() or a.all()"
     ]
    }
   ],
   "source": [
    "\n",
    "#for i in range(len(data_train)):\n",
    "primera_capa = []\n",
    "for j in range(len(W1)):\n",
    "    resultado = (np.multiply(data_train[0],W1[j]))\n",
    "    resultado = np.sum(resultado, dtype=np.float32)\n",
    "    resultado = resultado+b\n",
    "    primera_capa.append(lineal(resultado))\n",
    "\n",
    "segunda_capa = []\n",
    "#for x in range(len(primera_capa)):\n",
    "for j in range(len(W2)):\n",
    "    resultado = (np.multiply(primera_capa,W2[j]))\n",
    "    resultado = np.sum(resultado, dtype=np.float32)\n",
    "    resultado = resultado+b\n",
    "    segunda_capa.append(sigmoide(resultado))\n",
    "\n",
    "\n",
    "segunda_capa\n"
   ]
  }
 ],
 "metadata": {
  "kernelspec": {
   "display_name": "Python 3.8.5 64-bit",
   "language": "python",
   "name": "python3"
  },
  "language_info": {
   "codemirror_mode": {
    "name": "ipython",
    "version": 3
   },
   "file_extension": ".py",
   "mimetype": "text/x-python",
   "name": "python",
   "nbconvert_exporter": "python",
   "pygments_lexer": "ipython3",
   "version": "3.8.5"
  },
  "vscode": {
   "interpreter": {
    "hash": "570feb405e2e27c949193ac68f46852414290d515b0ba6e5d90d076ed2284471"
   }
  }
 },
 "nbformat": 4,
 "nbformat_minor": 5
}
