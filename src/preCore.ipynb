{
 "cells": [
  {
   "cell_type": "code",
   "execution_count": 10,
   "id": "3637cffd",
   "metadata": {},
   "outputs": [],
   "source": [
    "import pandas as pd\n",
    "import numpy as np\n",
    "import random\n",
    "import matplotlib.pyplot as plt\n",
    "from function import lineal, sigmoide\n",
    "import os "
   ]
  },
  {
   "cell_type": "code",
   "execution_count": 9,
   "id": "6d8f4901",
   "metadata": {},
   "outputs": [],
   "source": [
    "\n",
    "#Capa de entrada\n",
    "x=np.zeros(100, dtype=int)\n",
    "#Inicializamos los pesos (100 por cada neurona, tenemos 5 neuronas)\n",
    "w = np.random.rand(500)\n",
    "w11 = w[:100]\n",
    "w12 = w[100:200]\n",
    "w13 = w[200:300]\n",
    "w14 = w[300:400]\n",
    "w15 = w[400:500]\n",
    "W1 = [w11,w12,w13,w14,w15]\n",
    "\n",
    "w = np.random.rand(25)\n",
    "w21 = w[:5]\n",
    "w22 = w[5:10]\n",
    "w23 = w[10:15]\n",
    "w24 = w[15:20]\n",
    "w25 = w[20:25]\n",
    "W2 = [w21,w22,w23,w24,w25]\n",
    "#Bias\n",
    "b = random.random()\n",
    "#Codificacion de clases\n",
    "#b = 00000\n",
    "#d = 00001\n",
    "#f = 00010\n",
    "Y=[[0,0,0,0,0],[0,0,0,0,1],[0,0,0,1,0]]"
   ]
  },
  {
   "cell_type": "code",
   "execution_count": 4,
   "id": "57cdc1fd",
   "metadata": {},
   "outputs": [],
   "source": [
    "\n",
    "#Este tendria que ir si ejecutamos en archivo .py\n",
    "#os.path.join(os.path.dirname(__file__),\"src\",\"data\",\"distorsionadas\",\"100\")\n",
    "#Input de cantidad de datos a usar\n",
    "size = 100\n",
    "letter =['b','d','f']\n",
    "#b: es la clase 0 (cero)\n",
    "#d: es la clase 1 (uno)\n",
    "#f: es la clase 2 (dos)\n",
    "clase = [0,1,2]\n",
    "\n",
    "#ruta = os.path.join(os.path.abspath(''),\"data\",\"distorsionadas\",str(size),'letras'+'.csv')\n",
    "#data = pd.read_csv(ruta,sep=';', header=None)\n",
    "\n",
    "\n"
   ]
  },
  {
   "cell_type": "code",
   "execution_count": 5,
   "id": "f0b6aab2",
   "metadata": {},
   "outputs": [],
   "source": [
    "b = (pd.read_csv(os.path.join(os.path.abspath(''),\"data\",\"distorsionadas\",'100','letras_b.csv'),sep=';',header=None)).to_numpy()\n",
    "d = (pd.read_csv(os.path.join(os.path.abspath(''),\"data\",\"distorsionadas\",'100','letras_d.csv'),sep=';',header=None)).to_numpy()\n",
    "f = (pd.read_csv(os.path.join(os.path.abspath(''),\"data\",\"distorsionadas\",'100','letras_f.csv'),sep=';',header=None)).to_numpy()\n",
    "letter =[b,d,f]\n",
    "data =[]\n",
    "aux=[]\n",
    "i=0\n",
    "while i<99:\n",
    "    for j in range(3):\n",
    "     data.append((letter[j])[i])\n",
    "    i=i+3\n",
    "data.append(b[70])\n",
    "#Se define como dateframe para poder leer el csv mas facil\n",
    "#data = pd.DataFrame(data)\n",
    "#data.to_csv('data.csv',sep=';',header=None,index=False)"
   ]
  },
  {
   "cell_type": "code",
   "execution_count": 6,
   "id": "3c01ee8c",
   "metadata": {},
   "outputs": [],
   "source": [
    "#Convertimos el dataframe en array numpy\n",
    "data_train = data[:int(len(data)*0.8)]\n",
    "data_test = data[int(len(data)*0.8)+1:int(len(data)*0.8)+int(len(data)*0.15)]\n",
    "data_validation = data[int(len(data)*0.8)+int(len(data)*0.15)+1:99]"
   ]
  },
  {
   "cell_type": "code",
   "execution_count": 7,
   "id": "bc01b4a7",
   "metadata": {},
   "outputs": [
    {
     "data": {
      "text/plain": [
       "'Tendria que crear un vector de clases \"Y\" y multiplicarlo por el vector data, haciendo\\ncorresponder cada fila con su clase.\\nPrimero voy multiplicar los pesos con las entradas para ver que valores me da'"
      ]
     },
     "execution_count": 7,
     "metadata": {},
     "output_type": "execute_result"
    }
   ],
   "source": [
    "\"\"\"Tendria que crear un vector de clases \"Y\" y multiplicarlo por el vector data, haciendo\n",
    "corresponder cada fila con su clase.\n",
    "Primero voy multiplicar los pesos con las entradas para ver que valores me da\"\"\""
   ]
  },
  {
   "cell_type": "code",
   "execution_count": 13,
   "id": "d2a880c1",
   "metadata": {},
   "outputs": [
    {
     "data": {
      "text/plain": [
       "[1.9435368025755868,\n",
       " 1.9435368025755868,\n",
       " 1.9435368025755868,\n",
       " 1.9435368025755868,\n",
       " 1.9435368025755868,\n",
       " 1.9435368025755868,\n",
       " 1.9435368025755868,\n",
       " 1.9435368025755868,\n",
       " 1.9435368025755868,\n",
       " 1.9435368025755868,\n",
       " 1.0176590684598963,\n",
       " 1.0804339346072267,\n",
       " 1.1193676767772036,\n",
       " 1.0646831565219852,\n",
       " 1.0938867017600922,\n",
       " 1.0176590684598963,\n",
       " 1.0804339346072267,\n",
       " 1.1193676767772036,\n",
       " 1.0646831565219852,\n",
       " 1.0938867017600922,\n",
       " 1.9435368025755868,\n",
       " 1.9435368025755868,\n",
       " 1.9435368025755868,\n",
       " 1.9435368025755868,\n",
       " 1.9435368025755868]"
      ]
     },
     "execution_count": 13,
     "metadata": {},
     "output_type": "execute_result"
    }
   ],
   "source": [
    "\n",
    "#for i in range(len(data_train)):\n",
    "primera_capa = []\n",
    "for j in range(len(W1)):\n",
    "    resultado = (np.multiply(data_train[0],W1[j]))\n",
    "    resultado = np.sum(resultado, dtype=np.float32)\n",
    "    resultado = resultado+b\n",
    "    primera_capa.append(lineal(resultado))\n",
    "\n",
    "segunda_capa = []\n",
    "#for x in range(len(primera_capa)):\n",
    "for j in range(len(W2)):\n",
    "    resultado = (np.multiply(primera_capa,W2[j]))\n",
    "    resultado = np.sum(resultado, dtype=np.float32)\n",
    "    resultado = resultado+b\n",
    "    segunda_capa.append(sigmoide(resultado))\n",
    "\n",
    "\n",
    "segunda_capa\n"
   ]
  },
  {
   "cell_type": "code",
   "execution_count": 22,
   "id": "62958938",
   "metadata": {},
   "outputs": [
    {
     "data": {
      "text/plain": [
       "[array([[7.45587063, 7.45587063, 7.45587063, ..., 7.45587063, 7.45587063,\n",
       "         7.45587063],\n",
       "        [7.45587063, 7.45587063, 7.45587063, ..., 7.45587063, 7.45587063,\n",
       "         7.45587063],\n",
       "        [7.45587063, 7.45587063, 7.45587063, ..., 7.45587063, 7.45587063,\n",
       "         7.45587063],\n",
       "        ...,\n",
       "        [7.45587063, 7.45587063, 7.45587063, ..., 7.45587063, 7.45587063,\n",
       "         7.45587063],\n",
       "        [7.45587063, 7.45587063, 7.45587063, ..., 7.45587063, 8.45587063,\n",
       "         7.45587063],\n",
       "        [7.45587063, 7.45587063, 7.45587063, ..., 7.45587063, 7.45587063,\n",
       "         7.45587063]]),\n",
       " array([[6.2390461, 6.2390461, 6.2390461, ..., 6.2390461, 6.2390461,\n",
       "         6.2390461],\n",
       "        [6.2390461, 6.2390461, 6.2390461, ..., 6.2390461, 6.2390461,\n",
       "         6.2390461],\n",
       "        [6.2390461, 6.2390461, 6.2390461, ..., 6.2390461, 6.2390461,\n",
       "         6.2390461],\n",
       "        ...,\n",
       "        [6.2390461, 6.2390461, 6.2390461, ..., 6.2390461, 6.2390461,\n",
       "         6.2390461],\n",
       "        [6.2390461, 6.2390461, 6.2390461, ..., 6.2390461, 7.2390461,\n",
       "         6.2390461],\n",
       "        [6.2390461, 6.2390461, 6.2390461, ..., 6.2390461, 6.2390461,\n",
       "         6.2390461]]),\n",
       " array([[7.83018017, 7.83018017, 7.83018017, ..., 7.83018017, 7.83018017,\n",
       "         7.83018017],\n",
       "        [7.83018017, 7.83018017, 7.83018017, ..., 7.83018017, 7.83018017,\n",
       "         7.83018017],\n",
       "        [7.83018017, 7.83018017, 7.83018017, ..., 7.83018017, 7.83018017,\n",
       "         7.83018017],\n",
       "        ...,\n",
       "        [7.83018017, 7.83018017, 7.83018017, ..., 7.83018017, 7.83018017,\n",
       "         7.83018017],\n",
       "        [7.83018017, 7.83018017, 7.83018017, ..., 7.83018017, 8.83018017,\n",
       "         7.83018017],\n",
       "        [7.83018017, 7.83018017, 7.83018017, ..., 7.83018017, 7.83018017,\n",
       "         7.83018017]]),\n",
       " array([[8.97220039, 8.97220039, 8.97220039, ..., 8.97220039, 8.97220039,\n",
       "         8.97220039],\n",
       "        [8.97220039, 8.97220039, 8.97220039, ..., 8.97220039, 8.97220039,\n",
       "         8.97220039],\n",
       "        [8.97220039, 8.97220039, 8.97220039, ..., 8.97220039, 8.97220039,\n",
       "         8.97220039],\n",
       "        ...,\n",
       "        [8.97220039, 8.97220039, 8.97220039, ..., 8.97220039, 8.97220039,\n",
       "         8.97220039],\n",
       "        [8.97220039, 8.97220039, 8.97220039, ..., 8.97220039, 9.97220039,\n",
       "         8.97220039],\n",
       "        [8.97220039, 8.97220039, 8.97220039, ..., 8.97220039, 8.97220039,\n",
       "         8.97220039]]),\n",
       " array([[8.62555122, 8.62555122, 8.62555122, ..., 8.62555122, 8.62555122,\n",
       "         8.62555122],\n",
       "        [8.62555122, 8.62555122, 8.62555122, ..., 8.62555122, 8.62555122,\n",
       "         8.62555122],\n",
       "        [8.62555122, 8.62555122, 8.62555122, ..., 8.62555122, 8.62555122,\n",
       "         8.62555122],\n",
       "        ...,\n",
       "        [8.62555122, 8.62555122, 8.62555122, ..., 8.62555122, 8.62555122,\n",
       "         8.62555122],\n",
       "        [8.62555122, 8.62555122, 8.62555122, ..., 8.62555122, 9.62555122,\n",
       "         8.62555122],\n",
       "        [8.62555122, 8.62555122, 8.62555122, ..., 8.62555122, 8.62555122,\n",
       "         8.62555122]])]"
      ]
     },
     "execution_count": 22,
     "metadata": {},
     "output_type": "execute_result"
    }
   ],
   "source": []
  }
 ],
 "metadata": {
  "kernelspec": {
   "display_name": "Python 3.8.5 64-bit",
   "language": "python",
   "name": "python3"
  },
  "language_info": {
   "codemirror_mode": {
    "name": "ipython",
    "version": 3
   },
   "file_extension": ".py",
   "mimetype": "text/x-python",
   "name": "python",
   "nbconvert_exporter": "python",
   "pygments_lexer": "ipython3",
   "version": "3.8.5"
  },
  "vscode": {
   "interpreter": {
    "hash": "570feb405e2e27c949193ac68f46852414290d515b0ba6e5d90d076ed2284471"
   }
  }
 },
 "nbformat": 4,
 "nbformat_minor": 5
}
