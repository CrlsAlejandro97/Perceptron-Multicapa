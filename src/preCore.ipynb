{
 "cells": [
  {
   "cell_type": "code",
   "execution_count": 1,
   "id": "3637cffd",
   "metadata": {},
   "outputs": [],
   "source": [
    "import pandas as pd\n",
    "import numpy as np\n",
    "import random\n",
    "import matplotlib.pyplot as plt\n",
    "from function import lineal, sigmoide\n",
    "import os "
   ]
  },
  {
   "cell_type": "code",
   "execution_count": 16,
   "id": "6d8f4901",
   "metadata": {},
   "outputs": [],
   "source": [
    "\n",
    "#Capa de entrada\n",
    "x=np.zeros(100, dtype=int)\n",
    "#Inicializamos los pesos (100 por cada neurona, tenemos 5 neuronas)\n",
    "w = np.random.rand(500)\n",
    "w11 = w[:100]\n",
    "w12 = w[100:200]\n",
    "w13 = w[200:300]\n",
    "w14 = w[300:400]\n",
    "w15 = w[400:500]\n",
    "W1 = [w11,w12,w13,w14,w15]\n",
    "\n",
    "w = np.random.rand(25)\n",
    "w21 = w[:5]\n",
    "w22 = w[5:10]\n",
    "w23 = w[10:15]\n",
    "w24 = w[15:20]\n",
    "w25 = w[20:25]\n",
    "W2 = [w21,w22,w23,w24,w25]\n",
    "\n",
    "w = np.random.rand(15)\n",
    "w31 = w[:5]\n",
    "w32 = w[5:10]\n",
    "w33 = w[10:15]\n",
    "W3 = [w31,w32,w33]\n",
    "#Bias\n",
    "B = random.random()\n",
    "#Codificacion de clases\n",
    "#b = 00000\n",
    "#d = 00001\n",
    "#f = 00010\n",
    "Y=[[0,0,0,0,0],[0,0,0,0,1],[0,0,0,1,0]]"
   ]
  },
  {
   "cell_type": "code",
   "execution_count": 3,
   "id": "57cdc1fd",
   "metadata": {},
   "outputs": [],
   "source": [
    "\n",
    "#Este tendria que ir si ejecutamos en archivo .py\n",
    "#os.path.join(os.path.dirname(__file__),\"src\",\"data\",\"distorsionadas\",\"100\")\n",
    "#Input de cantidad de datos a usar\n",
    "size = 100\n",
    "letter =['b','d','f']\n",
    "#b: es la clase 0 (cero)\n",
    "#d: es la clase 1 (uno)\n",
    "#f: es la clase 2 (dos)\n",
    "clase = [0,1,2]\n",
    "\n",
    "#ruta = os.path.join(os.path.abspath(''),\"data\",\"distorsionadas\",str(size),'letras'+'.csv')\n",
    "#data = pd.read_csv(ruta,sep=';', header=None)\n",
    "\n",
    "\n"
   ]
  },
  {
   "cell_type": "code",
   "execution_count": 20,
   "id": "f0b6aab2",
   "metadata": {},
   "outputs": [
    {
     "name": "stdout",
     "output_type": "stream",
     "text": [
      "[0 0 0 0 0 0 0 0 0 0 0 0 1 0 0 0 0 0 0 0 0 0 1 0 0 0 0 0 0 0 0 0 1 0 0 0 0\n",
      " 0 0 0 0 0 1 1 1 1 1 0 0 0 0 0 1 0 0 0 0 1 0 0 0 0 1 0 0 0 0 1 0 0 0 0 1 0\n",
      " 0 0 0 1 0 0 0 0 1 1 1 1 1 0 0 0 0 0 0 0 0 0 0 0 0 0]\n"
     ]
    },
    {
     "data": {
      "text/plain": [
       "' letter =[b,d,f]\\ndata =[]\\naux=[]\\ni=0\\nwhile i<99:\\n    for j in range(3):\\n     data.append((letter[j])[i])\\n    i=i+3\\ndata.append(b[70]) '"
      ]
     },
     "execution_count": 20,
     "metadata": {},
     "output_type": "execute_result"
    }
   ],
   "source": [
    "b = (pd.read_csv(os.path.join(os.path.abspath(''),\"data\",\"originales\",'100','letras_b.csv'),sep=';',header=None)).to_numpy()[0]\n",
    "d = (pd.read_csv(os.path.join(os.path.abspath(''),\"data\",\"originales\",'100','letras_d.csv'),sep=';',header=None)).to_numpy()[0]\n",
    "f = (pd.read_csv(os.path.join(os.path.abspath(''),\"data\",\"originales\",'100','letras_f.csv'),sep=';',header=None)).to_numpy()[0]\n",
    "print(b)\n",
    "\"\"\" letter =[b,d,f]\n",
    "data =[]\n",
    "aux=[]\n",
    "i=0\n",
    "while i<99:\n",
    "    for j in range(3):\n",
    "     data.append((letter[j])[i])\n",
    "    i=i+3\n",
    "data.append(b[70]) \"\"\"\n",
    "#Se define como dateframe para poder leer el csv mas facil\n",
    "#data = pd.DataFrame(data)\n",
    "#data.to_csv('data.csv',sep=';',header=None,index=False)"
   ]
  },
  {
   "cell_type": "code",
   "execution_count": 5,
   "id": "3c01ee8c",
   "metadata": {},
   "outputs": [],
   "source": [
    "#Convertimos el dataframe en array numpy\n",
    "\"\"\" data_train = data[:int(len(data)*0.8)]\n",
    "data_test = data[int(len(data)*0.8)+1:int(len(data)*0.8)+int(len(data)*0.15)]\n",
    "data_validation = data[int(len(data)*0.8)+int(len(data)*0.15)+1:99] \"\"\""
   ]
  },
  {
   "cell_type": "code",
   "execution_count": 7,
   "id": "bc01b4a7",
   "metadata": {},
   "outputs": [
    {
     "data": {
      "text/plain": [
       "'Tendria que crear un vector de clases \"Y\" y multiplicarlo por el vector data, haciendo\\ncorresponder cada fila con su clase.\\nPrimero voy multiplicar los pesos con las entradas para ver que valores me da'"
      ]
     },
     "execution_count": 7,
     "metadata": {},
     "output_type": "execute_result"
    }
   ],
   "source": [
    "\"\"\"Tendria que crear un vector de clases \"Y\" y multiplicarlo por el vector data, haciendo\n",
    "corresponder cada fila con su clase.\n",
    "Primero voy multiplicar los pesos con las entradas para ver que valores me da\"\"\""
   ]
  },
  {
   "cell_type": "code",
   "execution_count": 46,
   "id": "d2a880c1",
   "metadata": {},
   "outputs": [
    {
     "name": "stdout",
     "output_type": "stream",
     "text": [
      "[0 0 0 0 0 0 0 0 0 0 0 0 1 0 0 0 0 0 0 0 0 0 1 0 0 0 0 0 0 0 0 0 1 0 0 0 0\n",
      " 0 0 0 0 0 1 1 1 1 1 0 0 0 0 0 1 0 0 0 0 1 0 0 0 0 1 0 0 0 0 1 0 0 0 0 1 0\n",
      " 0 0 0 1 0 0 0 0 1 1 1 1 1 0 0 0 0 0 0 0 0 0 0 0 0 0]\n",
      "[0.         0.         0.         0.         0.         0.\n",
      " 0.         0.         0.         0.         0.         0.\n",
      " 0.29496327 0.         0.         0.         0.         0.\n",
      " 0.         0.         0.         0.         0.73402527 0.\n",
      " 0.         0.         0.         0.         0.         0.\n",
      " 0.         0.         0.5857181  0.         0.         0.\n",
      " 0.         0.         0.         0.         0.         0.\n",
      " 0.16249162 0.23337221 0.6704673  0.64191125 0.03604114 0.\n",
      " 0.         0.         0.         0.         0.4181745  0.\n",
      " 0.         0.         0.         0.9348918  0.         0.\n",
      " 0.         0.         0.2289035  0.         0.         0.\n",
      " 0.         0.73814536 0.         0.         0.         0.\n",
      " 0.95279663 0.         0.         0.         0.         0.17810561\n",
      " 0.         0.         0.         0.         0.31705683 0.96395612\n",
      " 0.85414419 0.26903254 0.41683635 0.         0.         0.\n",
      " 0.         0.         0.         0.         0.         0.\n",
      " 0.         0.         0.         0.        ]\n",
      "[0.         0.         0.         0.         0.         0.\n",
      " 0.         0.         0.         0.         0.         0.\n",
      " 0.1962987  0.         0.         0.         0.         0.\n",
      " 0.         0.         0.         0.         0.58940617 0.\n",
      " 0.         0.         0.         0.         0.         0.\n",
      " 0.         0.         0.51761086 0.         0.         0.\n",
      " 0.         0.         0.         0.         0.         0.\n",
      " 0.76905375 0.82602644 0.53331134 0.48240602 0.49300027 0.\n",
      " 0.         0.         0.         0.         0.02402963 0.\n",
      " 0.         0.         0.         0.13537606 0.         0.\n",
      " 0.         0.         0.95391706 0.         0.         0.\n",
      " 0.         0.25813005 0.         0.         0.         0.\n",
      " 0.56600412 0.         0.         0.         0.         0.51737145\n",
      " 0.         0.         0.         0.         0.65184161 0.17767164\n",
      " 0.68858282 0.99607932 0.80704172 0.         0.         0.\n",
      " 0.         0.         0.         0.         0.         0.\n",
      " 0.         0.         0.         0.        ]\n",
      "[0.         0.         0.         0.         0.         0.\n",
      " 0.         0.         0.         0.         0.         0.\n",
      " 0.19039645 0.         0.         0.         0.         0.\n",
      " 0.         0.         0.         0.         0.36179889 0.\n",
      " 0.         0.         0.         0.         0.         0.\n",
      " 0.         0.         0.15786583 0.         0.         0.\n",
      " 0.         0.         0.         0.         0.         0.\n",
      " 0.81821468 0.52840253 0.89444266 0.37174999 0.76383531 0.\n",
      " 0.         0.         0.         0.         0.38429288 0.\n",
      " 0.         0.         0.         0.39290667 0.         0.\n",
      " 0.         0.         0.52614912 0.         0.         0.\n",
      " 0.         0.57801674 0.         0.         0.         0.\n",
      " 0.52613626 0.         0.         0.         0.         0.66885834\n",
      " 0.         0.         0.         0.         0.38221192 0.49796964\n",
      " 0.95269373 0.92854867 0.94072668 0.         0.         0.\n",
      " 0.         0.         0.         0.         0.         0.\n",
      " 0.         0.         0.         0.        ]\n",
      "[0.         0.         0.         0.         0.         0.\n",
      " 0.         0.         0.         0.         0.         0.\n",
      " 0.56090363 0.         0.         0.         0.         0.\n",
      " 0.         0.         0.         0.         0.91438054 0.\n",
      " 0.         0.         0.         0.         0.         0.\n",
      " 0.         0.         0.71198483 0.         0.         0.\n",
      " 0.         0.         0.         0.         0.         0.\n",
      " 0.91797191 0.01360364 0.73341999 0.37769997 0.20892042 0.\n",
      " 0.         0.         0.         0.         0.14974254 0.\n",
      " 0.         0.         0.         0.7481723  0.         0.\n",
      " 0.         0.         0.48425741 0.         0.         0.\n",
      " 0.         0.88145278 0.         0.         0.         0.\n",
      " 0.13294806 0.         0.         0.         0.         0.21558569\n",
      " 0.         0.         0.         0.         0.18557641 0.10606381\n",
      " 0.596556   0.69759132 0.6686029  0.         0.         0.\n",
      " 0.         0.         0.         0.         0.         0.\n",
      " 0.         0.         0.         0.        ]\n",
      "[0.         0.         0.         0.         0.         0.\n",
      " 0.         0.         0.         0.         0.         0.\n",
      " 0.19254304 0.         0.         0.         0.         0.\n",
      " 0.         0.         0.         0.         0.19137302 0.\n",
      " 0.         0.         0.         0.         0.         0.\n",
      " 0.         0.         0.54279611 0.         0.         0.\n",
      " 0.         0.         0.         0.         0.         0.\n",
      " 0.83775191 0.5137904  0.88644755 0.71449552 0.63020626 0.\n",
      " 0.         0.         0.         0.         0.04902357 0.\n",
      " 0.         0.         0.         0.31014465 0.         0.\n",
      " 0.         0.         0.93770214 0.         0.         0.\n",
      " 0.         0.36970734 0.         0.         0.         0.\n",
      " 0.31386968 0.         0.         0.         0.         0.39969735\n",
      " 0.         0.         0.         0.         0.83088757 0.41998686\n",
      " 0.46643091 0.09114893 0.35881417 0.         0.         0.\n",
      " 0.         0.         0.         0.         0.         0.\n",
      " 0.         0.         0.         0.        ]\n",
      "Valores entrada primer capa b: [10.51351200539039, 11.065636982502207, 11.747695316852793, 10.187912334980235, 9.93929611641334]\n",
      "Promedio valores entrada primer capa b: 10.690810551227793\n",
      "Primer capa b:  [1, 1, 1, 1, 1]\n",
      "Segunda capa b:  [1.0223572805212013, 1.047614338294534, 1.017382053495654, 1.0137901631316322, 1.015101408132603]\n",
      "Valores entrada primer capa d: [10.78858696419166, 10.972298969806895, 12.195493092121348, 8.537373890461192, 9.310945858539805]\n",
      "Promedio valores entrada primer capa d: 10.36093975502418\n",
      "Primer capa d:  [1, 1, 1, 0, 0]\n",
      "Segunda capa d:  [1.1419144354632207, 1.0971462374883796, 1.1009478723166248, 1.0536299239911158, 1.0561830589630146]\n",
      "Valores entrada primer capa f: [8.639322628559336, 8.499895443500742, 9.16897140938209, 6.859632839740977, 9.214595188678965]\n",
      "Promedio valores entrada primer capa f: 8.476483501972421\n",
      "Primer capa f:  [0, 0, 0, 0, 0]\n",
      "Segunda capa f:  [1.4137563073773562, 1.4137563073773562, 1.4137563073773562, 1.4137563073773562, 1.4137563073773562]\n"
     ]
    }
   ],
   "source": [
    "\n",
    "#for i in range(len(data_train)):\n",
    "print(b)\n",
    "primera_capa = []\n",
    "valores_entrada_primer_capa = []\n",
    "for j in range(len(W1)):\n",
    "    resultado = (np.multiply(b,W1[j]))\n",
    "    print(resultado)\n",
    "    #print(resultado)\n",
    "    resultado = np.sum(resultado, dtype=np.float32)\n",
    "    resultado = resultado + B\n",
    "    valores_entrada_primer_capa.append(resultado)\n",
    "    primera_capa.append(lineal(resultado))\n",
    "\n",
    "segunda_capa = []\n",
    "#for x in range(len(primera_capa)):\n",
    "for j in range(len(W2)):\n",
    "    resultado = (np.multiply(primera_capa,W2[j]))\n",
    "    resultado = np.sum(resultado, dtype=np.float32)\n",
    "    resultado = resultado+B\n",
    "    segunda_capa.append(sigmoide(resultado))\n",
    "\n",
    "print(\"Valores entrada primer capa b:\", valores_entrada_primer_capa)\n",
    "print(\"Promedio valores entrada primer capa b:\", np.mean(valores_entrada_primer_capa))\n",
    "print(\"Primer capa b: \", primera_capa)\n",
    "print(\"Segunda capa b: \",segunda_capa)\n",
    "\n",
    "primera_capa = []\n",
    "valores_entrada_primer_capa = []\n",
    "for j in range(len(W1)):\n",
    "    resultado = (np.multiply(d,W1[j]))\n",
    "    #print(resultado)\n",
    "    resultado = np.sum(resultado, dtype=np.float32)\n",
    "    resultado = resultado + B\n",
    "    valores_entrada_primer_capa.append(resultado)\n",
    "    primera_capa.append(lineal(resultado))\n",
    "\n",
    "segunda_capa = []\n",
    "#for x in range(len(primera_capa)):\n",
    "for j in range(len(W2)):\n",
    "    resultado = (np.multiply(primera_capa,W2[j]))\n",
    "    resultado = np.sum(resultado, dtype=np.float32)\n",
    "    resultado = resultado+B\n",
    "    segunda_capa.append(sigmoide(resultado))\n",
    "\n",
    "print(\"Valores entrada primer capa d:\", valores_entrada_primer_capa)\n",
    "print(\"Promedio valores entrada primer capa d:\", np.mean(valores_entrada_primer_capa))\n",
    "print(\"Primer capa d: \", primera_capa)\n",
    "print(\"Segunda capa d: \",segunda_capa)\n",
    "\n",
    "\n",
    "primera_capa = []\n",
    "valores_entrada_primer_capa = []\n",
    "for j in range(len(W1)):\n",
    "    resultado = (np.multiply(f,W1[j]))\n",
    "    #print(resultado)\n",
    "    resultado = np.sum(resultado, dtype=np.float32)\n",
    "    resultado = resultado + B\n",
    "    valores_entrada_primer_capa.append(resultado)\n",
    "    primera_capa.append(lineal(resultado))\n",
    "\n",
    "segunda_capa = []\n",
    "#for x in range(len(primera_capa)):\n",
    "for j in range(len(W2)):\n",
    "    resultado = (np.multiply(primera_capa,W2[j]))\n",
    "    resultado = np.sum(resultado, dtype=np.float32)\n",
    "    resultado = resultado+B\n",
    "    segunda_capa.append(sigmoide(resultado))\n",
    "\n",
    "print(\"Valores entrada primer capa f:\", valores_entrada_primer_capa)\n",
    "print(\"Promedio valores entrada primer capa f:\", np.mean(valores_entrada_primer_capa))\n",
    "print(\"Primer capa f: \", primera_capa)\n",
    "print(\"Segunda capa f: \",segunda_capa)"
   ]
  },
  {
   "cell_type": "code",
   "execution_count": 38,
   "id": "62958938",
   "metadata": {},
   "outputs": [
    {
     "data": {
      "text/plain": [
       "0.9131788532894741"
      ]
     },
     "execution_count": 38,
     "metadata": {},
     "output_type": "execute_result"
    }
   ],
   "source": [
    "random.random()"
   ]
  }
 ],
 "metadata": {
  "kernelspec": {
   "display_name": "Python 3.8.5 64-bit",
   "language": "python",
   "name": "python3"
  },
  "language_info": {
   "codemirror_mode": {
    "name": "ipython",
    "version": 3
   },
   "file_extension": ".py",
   "mimetype": "text/x-python",
   "name": "python",
   "nbconvert_exporter": "python",
   "pygments_lexer": "ipython3",
   "version": "3.8.5"
  },
  "vscode": {
   "interpreter": {
    "hash": "570feb405e2e27c949193ac68f46852414290d515b0ba6e5d90d076ed2284471"
   }
  }
 },
 "nbformat": 4,
 "nbformat_minor": 5
}
