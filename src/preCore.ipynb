{
 "cells": [
  {
   "cell_type": "code",
   "execution_count": 3,
   "id": "3637cffd",
   "metadata": {},
   "outputs": [],
   "source": [
    "import pandas as pd\n",
    "import numpy as np\n",
    "import random\n",
    "import matplotlib.pyplot as plt\n",
    "from function import lineal, sigmoide, derivate_sigmoide, derivate_lineal\n",
    "import os\n",
    "import math"
   ]
  },
  {
   "cell_type": "code",
   "execution_count": 5,
   "id": "4d8d5462",
   "metadata": {},
   "outputs": [],
   "source": [
    "#Inicializamos los pesos de la Capa 1\n",
    "w = np.random.random(500)\n",
    "w11 = w[:100]\n",
    "w12 = w[100:200]\n",
    "w13 = w[200:300]\n",
    "w14 = w[300:400]\n",
    "w15 = w[400:500]\n",
    "W1=[w11,w12,w13,w14,w15]\n",
    "\n",
    "#Inicializamos los pesos de la Capa 2\n",
    "w = np.random.random(25)\n",
    "w21 = w[:5]\n",
    "w22 = w[5:10]\n",
    "w23 = w[10:15]\n",
    "w24 = w[15:20]\n",
    "w25 = w[20:25]\n",
    "W2 = [w21,w22,w23,w24,w25] \n",
    "\n",
    "#Incializamos los pesos de la Capa 3\n",
    "w = np.random.random(15)\n",
    "w31 = w[:5]\n",
    "w32 = w[5:10]\n",
    "w33 = w[10:15]\n",
    "W3 = [w31,w32,w33]\n",
    "\n",
    "#Bias\n",
    "b = random.random()\n",
    "\n",
    "#Factor de aprendizaje\n",
    "alfa = random.random()\n",
    "\n",
    "#Codificacion de clases\n",
    "#b = 100\n",
    "#d = 010\n",
    "#f = 001"
   ]
  },
  {
   "cell_type": "code",
   "execution_count": 6,
   "id": "06703312",
   "metadata": {},
   "outputs": [],
   "source": [
    "data = (pd.read_csv(os.path.join(os.path.abspath(''),\"data\",\"distorsionadas\",'100','letras.csv'),sep=';',header=None)).to_numpy()\n",
    "#Convertimos el dataframe en array numpy\n",
    "data_train = data[:int(len(data)*0.8)]\n",
    "data_test = data[int(len(data)*0.8)+1:int(len(data)*0.8)+int(len(data)*0.15)]\n",
    "data_validation = data[int(len(data)*0.8)+int(len(data)*0.15)+1:99]"
   ]
  },
  {
   "cell_type": "code",
   "execution_count": 7,
   "id": "e68562a1",
   "metadata": {},
   "outputs": [],
   "source": [
    "#Dividiendo data train en una tupla (entrada,clase)\n",
    "letras_train = []\n",
    "for letra in data_train:\n",
    "    x_test = letra[:100]\n",
    "    y_test = letra[100:]\n",
    "    letras_train.append((x_test, y_test))\n"
   ]
  },
  {
   "cell_type": "code",
   "execution_count": 31,
   "id": "d2a880c1",
   "metadata": {},
   "outputs": [
    {
     "name": "stdout",
     "output_type": "stream",
     "text": [
      "W3 sin actualizar:\n",
      " [array([0.4793058 , 0.58889612, 0.10862043, 0.70112781, 0.51284263]), array([0.14094763, 0.40475785, 0.3895572 , 0.80724734, 0.92472162]), array([0.3217584 , 0.48529851, 0.0234447 , 0.81720372, 0.42295548])]\n",
      "W2 sin actualizar:\n",
      " [array([0.60476186, 0.27042017, 0.90670334, 0.05598739, 0.73045147]), array([0.54855931, 0.67017803, 0.98204174, 0.62662338, 0.08892522]), array([0.80136586, 0.3940794 , 0.73128263, 0.58816777, 0.96487598]), array([0.69725818, 0.417247  , 0.19523209, 0.2187928 , 0.57715465]), array([0.40128621, 0.0986634 , 0.7530048 , 0.76516324, 0.33912259])]\n"
     ]
    },
    {
     "data": {
      "text/plain": [
       "' ys1 = np.array(ys1)\\n    ys2 = np.array(ys2)\\n    ys3 = np.array(ys3)\\n    #Delta en capa 3\\n    delta3 = []\\n    for j in range(len(ys3)):\\n        # error[j]*f\\'(a[j])\\n        derivate_cost =-error(letras_train[i][1][j], ys3[j])\\n        delta3.append(derivate_cost*derivate_sigmoide(ys3[j]))\\n    \\n    #Delta en capa 2\\n    delta2 = []\\n    W = np.transpose(W3)\\n    for j in range(len(W)):\\n        delta2.append(np.dot(W[j],delta3)*ys2[j])\\n   \\n    #Delta en capa oculta 1\\n    delta1 = []\\n    W = np.transpose(W2)\\n    for j in range(len(W)):\\n        delta1.append(np.dot(W[j],delta2)*ys1[j])\\n   \\n    \\n    #!!---- Gradient descent -------!!\\n    delta3 = np.array(delta3)\\n    delta2 = np.array(delta2)\\n    delta1 = np.array(delta1)\\n    W3 = np.transpose(W3)\\n    W2 = np.transpose(W2)\\n    W1 = np.transpose(W1)\\n    #Capa 3\\n    new_weight = []\\n    for j in range(len(W3)):\\n        new_weight.append(W3[j]+alfa*delta3*ys3)\\n    W3 = np.array(new_weight)\\n    \\n    #Capa 2\\n    new_weight = []\\n    for j in range(len(W2)):\\n        new_weight.append(W2[j]+alfa*delta2*ys2)\\n    W2 = np.array(new_weight)\\n\\n    #Capa 1\\n    new_weight = []\\n    for j in range(len(W1)):\\n        new_weight.append(W1[j]+alfa*delta1*ys1)\\n    W1 = np.array(new_weight)\\n    #pesos actualizados\\n    W3 = np.transpose(W3)\\n    W2 = np.transpose(W2)\\n    W1 = np.transpose(W1)\\n\\nprint(\"W3 actualizado:\\n\",W3)\\nprint(\"W2 actualizado:\\n\",W2)\\n#print(\"W1 actualizado:\\n\",W1)'"
      ]
     },
     "execution_count": 31,
     "metadata": {},
     "output_type": "execute_result"
    }
   ],
   "source": [
    "print(\"W3 sin actualizar:\\n\",W3)\n",
    "print(\"W2 sin actualizar:\\n\",W2)\n",
    "#print(\"W1 sin actualizar:\\n\",W1)\n",
    "\n",
    "for i in range(80):\n",
    "\n",
    "    #Primer capa\n",
    "    ys1 =[]\n",
    "    for j in range(len(W1)):\n",
    "        #Suma ponderada\n",
    "        Z = np.dot(letras_train[i][0],W1[j])\n",
    "        #Funcion de activacion\n",
    "        ys1.append(lineal(Z+b))\n",
    "    #print(\"Primer capa: \", ys1)\n",
    "\n",
    "    #Segunda capa\n",
    "    ys2 = []\n",
    "    for j in range(len(W2)):\n",
    "        #Suma ponderada\n",
    "        Z = np.dot(ys1,W2[j])\n",
    "        #Funcion de activacion\n",
    "        ys2.append(sigmoide(Z+b))\n",
    "    #print(\"2da capa: \", ys2)\n",
    "    #Capa de salida\n",
    "    ys3 = []\n",
    "    for j in range(len(W3)):\n",
    "        #Suma ponderada\n",
    "        Z = np.dot(ys2,W3[j])\n",
    "        #Funcion de activacion\n",
    "        ys3.append(sigmoide(Z+b))\n",
    "    #print(\"Capa salida: \", ys3)\n",
    "#!!-------Backpropagation-----!!\n",
    "\"\"\" ys1 = np.array(ys1)\n",
    "    ys2 = np.array(ys2)\n",
    "    ys3 = np.array(ys3)\n",
    "    #Delta en capa 3\n",
    "    delta3 = []\n",
    "    for j in range(len(ys3)):\n",
    "        # error[j]*f'(a[j])\n",
    "        derivate_cost =-error(letras_train[i][1][j], ys3[j])\n",
    "        delta3.append(derivate_cost*derivate_sigmoide(ys3[j]))\n",
    "    \n",
    "    #Delta en capa 2\n",
    "    delta2 = []\n",
    "    W = np.transpose(W3)\n",
    "    for j in range(len(W)):\n",
    "        delta2.append(np.dot(W[j],delta3)*ys2[j])\n",
    "   \n",
    "    #Delta en capa oculta 1\n",
    "    delta1 = []\n",
    "    W = np.transpose(W2)\n",
    "    for j in range(len(W)):\n",
    "        delta1.append(np.dot(W[j],delta2)*ys1[j])\n",
    "   \n",
    "    \n",
    "    #!!---- Gradient descent -------!!\n",
    "    delta3 = np.array(delta3)\n",
    "    delta2 = np.array(delta2)\n",
    "    delta1 = np.array(delta1)\n",
    "    W3 = np.transpose(W3)\n",
    "    W2 = np.transpose(W2)\n",
    "    W1 = np.transpose(W1)\n",
    "    #Capa 3\n",
    "    new_weight = []\n",
    "    for j in range(len(W3)):\n",
    "        new_weight.append(W3[j]+alfa*delta3*ys3)\n",
    "    W3 = np.array(new_weight)\n",
    "    \n",
    "    #Capa 2\n",
    "    new_weight = []\n",
    "    for j in range(len(W2)):\n",
    "        new_weight.append(W2[j]+alfa*delta2*ys2)\n",
    "    W2 = np.array(new_weight)\n",
    "\n",
    "    #Capa 1\n",
    "    new_weight = []\n",
    "    for j in range(len(W1)):\n",
    "        new_weight.append(W1[j]+alfa*delta1*ys1)\n",
    "    W1 = np.array(new_weight)\n",
    "    #pesos actualizados\n",
    "    W3 = np.transpose(W3)\n",
    "    W2 = np.transpose(W2)\n",
    "    W1 = np.transpose(W1)\n",
    "\n",
    "print(\"W3 actualizado:\\n\",W3)\n",
    "print(\"W2 actualizado:\\n\",W2)\n",
    "#print(\"W1 actualizado:\\n\",W1)\"\"\""
   ]
  },
  {
   "cell_type": "code",
   "execution_count": 22,
   "id": "7838c985",
   "metadata": {},
   "outputs": [
    {
     "name": "stdout",
     "output_type": "stream",
     "text": [
      "[[0.4793058  0.14094763 0.3217584 ]\n",
      " [0.58889612 0.40475785 0.48529851]\n",
      " [0.10862043 0.3895572  0.0234447 ]\n",
      " [0.70112781 0.80724734 0.81720372]\n",
      " [0.51284263 0.92472162 0.42295548]]\n",
      "[0.95861161 0.28189526 0.64351681]\n",
      "[1.17779224 0.80951571 0.97059702]\n",
      "[0.21724085 0.7791144  0.0468894 ]\n",
      "[1.40225562 1.61449468 1.63440745]\n",
      "[1.02568525 1.84944324 0.84591095]\n"
     ]
    }
   ],
   "source": [
    "w = np.transpose(W3)\n",
    "delta3 =[2,2,2]\n",
    "delta3 =np.array(delta3)\n",
    "print(w)\n",
    "for i in range (len(w)):\n",
    "    print(w[i]*delta3)\n"
   ]
  },
  {
   "cell_type": "code",
   "execution_count": 26,
   "id": "00471ebf",
   "metadata": {},
   "outputs": [
    {
     "name": "stdout",
     "output_type": "stream",
     "text": [
      "[0.95861161 0.28189526 0.64351681]\n",
      "[1.17779224 0.80951571 0.97059702]\n",
      "[0.21724085 0.7791144  0.0468894 ]\n",
      "[1.40225562 1.61449468 1.63440745]\n",
      "[1.02568525 1.84944324 0.84591095]\n"
     ]
    },
    {
     "ename": "ValueError",
     "evalue": "operands could not be broadcast together with shapes (5,) (3,) ",
     "output_type": "error",
     "traceback": [
      "\u001b[1;31m---------------------------------------------------------------------------\u001b[0m",
      "\u001b[1;31mValueError\u001b[0m                                Traceback (most recent call last)",
      "\u001b[1;32mc:\\Users\\aleoc\\OneDrive\\Escritorio\\Perceptron-Multicapa\\src\\preCore.ipynb Celda 7\u001b[0m in \u001b[0;36m<cell line: 5>\u001b[1;34m()\u001b[0m\n\u001b[0;32m      <a href='vscode-notebook-cell:/c%3A/Users/aleoc/OneDrive/Escritorio/Perceptron-Multicapa/src/preCore.ipynb#X10sZmlsZQ%3D%3D?line=5'>6</a>\u001b[0m w \u001b[39m=\u001b[39m np\u001b[39m.\u001b[39mtranspose(capa)\n\u001b[0;32m      <a href='vscode-notebook-cell:/c%3A/Users/aleoc/OneDrive/Escritorio/Perceptron-Multicapa/src/preCore.ipynb#X10sZmlsZQ%3D%3D?line=6'>7</a>\u001b[0m \u001b[39mfor\u001b[39;00m i \u001b[39min\u001b[39;00m \u001b[39mrange\u001b[39m(\u001b[39mlen\u001b[39m(w)):\n\u001b[1;32m----> <a href='vscode-notebook-cell:/c%3A/Users/aleoc/OneDrive/Escritorio/Perceptron-Multicapa/src/preCore.ipynb#X10sZmlsZQ%3D%3D?line=7'>8</a>\u001b[0m     \u001b[39mprint\u001b[39m(w[i]\u001b[39m*\u001b[39;49mdelta3)\n",
      "\u001b[1;31mValueError\u001b[0m: operands could not be broadcast together with shapes (5,) (3,) "
     ]
    }
   ],
   "source": [
    "W =[W1,W2,W3]\n",
    "delta3 = [2,2,2]\n",
    "delta3 =np.array(delta3)\n",
    "\n",
    "for capa in reversed(W):\n",
    "    w = np.transpose(capa)\n",
    "    for i in range(len(w)):\n",
    "        print(w[i]*delta3)"
   ]
  },
  {
   "cell_type": "code",
   "execution_count": null,
   "id": "f1097c13",
   "metadata": {},
   "outputs": [],
   "source": []
  }
 ],
 "metadata": {
  "kernelspec": {
   "display_name": "Python 3.10.8 64-bit (microsoft store)",
   "language": "python",
   "name": "python3"
  },
  "language_info": {
   "codemirror_mode": {
    "name": "ipython",
    "version": 3
   },
   "file_extension": ".py",
   "mimetype": "text/x-python",
   "name": "python",
   "nbconvert_exporter": "python",
   "pygments_lexer": "ipython3",
   "version": "3.10.8"
  },
  "vscode": {
   "interpreter": {
    "hash": "ba23b61cdc6890bf9b74f0059fdc1fca5173150fee92ba939d36054f0efba838"
   }
  }
 },
 "nbformat": 4,
 "nbformat_minor": 5
}
